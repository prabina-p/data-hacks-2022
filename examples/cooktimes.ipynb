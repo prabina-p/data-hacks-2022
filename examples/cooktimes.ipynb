{
 "cells": [
  {
   "cell_type": "code",
   "execution_count": 1,
   "metadata": {},
   "outputs": [],
   "source": [
    "import gzip\n",
    "from collections import defaultdict\n",
    "from sklearn import linear_model\n",
    "import csv\n",
    "import numpy as np\n",
    "import random\n",
    "import matplotlib.pyplot as plt\n",
    "import string"
   ]
  },
  {
   "cell_type": "code",
   "execution_count": 3,
   "metadata": {},
   "outputs": [],
   "source": [
    "def readGz(path):\n",
    "    for l in gzip.open(path, 'rt', encoding='cp437', errors='ignore'):\n",
    "        yield eval(l)"
   ]
  },
  {
   "cell_type": "code",
   "execution_count": 4,
   "metadata": {},
   "outputs": [],
   "source": [
    "data = []\n",
    "for d in readGz(\"assignment1/trainRecipes.json.gz\"):\n",
    "    data.append(d)"
   ]
  },
  {
   "cell_type": "code",
   "execution_count": 5,
   "metadata": {},
   "outputs": [],
   "source": [
    "train = data[:190000]\n",
    "validation = data[190000:]"
   ]
  },
  {
   "cell_type": "code",
   "execution_count": 20,
   "metadata": {},
   "outputs": [],
   "source": [
    "Y_train = []\n",
    "Y_val = []\n",
    "for i in train:\n",
    "    Y_train.append(i[\"minutes\"])\n",
    "\n",
    "for i in validation:\n",
    "    Y_val.append(i[\"minutes\"])"
   ]
  },
  {
   "cell_type": "code",
   "execution_count": 21,
   "metadata": {},
   "outputs": [
    {
     "name": "stdout",
     "output_type": "stream",
     "text": [
      "[10, 40, 50, 25, 55] [40, 195, 32, 3, 70]\n"
     ]
    }
   ],
   "source": [
    "print(Y_train[:5], Y_val[:5])"
   ]
  },
  {
   "cell_type": "code",
   "execution_count": 43,
   "metadata": {},
   "outputs": [
    {
     "data": {
      "text/plain": [
       "{'name': 'spiced apple pork loin roast',\n",
       " 'minutes': 100,\n",
       " 'contributor_id': '83301801',\n",
       " 'submitted': '2003-12-03',\n",
       " 'steps': 'set oven to 350f\\tin a small bowl , combine the first 4 ingredients\\tset aside\\tcut slits in top of roast\\tinsert the garlic strips\\tcombine flour , salt , sugar , pepper and mustard\\trub over roast\\tplace the roast on a rack , in a shallow roasting pan\\tbake , uncovered at 350f , or until a meat thermometer reads 160f\\tbrush applesauce mixture over the roast during the last half hour of baking\\tremove the roast to serving platter\\tslice',\n",
       " 'description': 'my family loves this pork roast! the applesauce recipe can be doubled if desired.',\n",
       " 'ingredients': ['applesauce',\n",
       "  'brown sugar',\n",
       "  'vinegar',\n",
       "  'clove',\n",
       "  'boneless pork loin roast',\n",
       "  'garlic cloves',\n",
       "  'flour',\n",
       "  'salt',\n",
       "  'sugar',\n",
       "  'pepper',\n",
       "  'prepared mustard'],\n",
       " 'recipe_id': '53080816'}"
      ]
     },
     "execution_count": 43,
     "metadata": {},
     "output_type": "execute_result"
    }
   ],
   "source": [
    "train[11]"
   ]
  },
  {
   "cell_type": "markdown",
   "metadata": {},
   "source": [
    "### Model that uses the sum of numbers in the steps"
   ]
  },
  {
   "cell_type": "code",
   "execution_count": 19,
   "metadata": {},
   "outputs": [],
   "source": [
    "# finds sum of digits in a string, tries to filter measurements and temperatures\n",
    "def findSum(str1):\n",
    " \n",
    "    # A temporary str1ing\n",
    "    temp = \"0\"\n",
    " \n",
    "    # holds sum of all numbers\n",
    "    # present in the str1ing\n",
    "    Sum = 0\n",
    " \n",
    "    # read each character in input string\n",
    "    for ch in str1:\n",
    " \n",
    "        # if current character is a digit\n",
    "        if (ch.isdigit()):\n",
    "            temp += ch\n",
    " \n",
    "        # if current character is an alphabet\n",
    "        else:\n",
    "            # to prevent temperature from being counted, or measurements\n",
    "            if ch in ['c','f','-','x']:\n",
    "                temp = \"0\"\n",
    "            # increment Sum by number found\n",
    "            # earlier(if any)\n",
    "            Sum += int(temp)\n",
    " \n",
    "            # reset temporary str1ing to empty\n",
    "            temp = \"0\"\n",
    " \n",
    "    # atoi(temp.c_str1()) takes care\n",
    "    # of trailing numbers\n",
    "    return Sum + int(temp)\n"
   ]
  },
  {
   "cell_type": "code",
   "execution_count": 28,
   "metadata": {},
   "outputs": [],
   "source": [
    "def MSE(y, ypred):\n",
    "    y = np.array(y)\n",
    "    ypred = np.array(ypred)\n",
    "    return np.mean((y-ypred)**2)"
   ]
  },
  {
   "cell_type": "code",
   "execution_count": 24,
   "metadata": {},
   "outputs": [],
   "source": [
    "# create sum of number feature\n",
    "def create_sum_x(train,val):\n",
    "    x_train = []\n",
    "    x_val = []\n",
    "    for t in train:\n",
    "        num = findSum(t[\"steps\"])\n",
    "        x_train.append(num)\n",
    "    \n",
    "    for v in val:\n",
    "        num = findSum(v[\"steps\"])\n",
    "        x_val.append(num)\n",
    "    \n",
    "    return x_train, x_val"
   ]
  },
  {
   "cell_type": "code",
   "execution_count": 25,
   "metadata": {},
   "outputs": [],
   "source": [
    "x_train_sum, x_val_sum = create_sum_x(train,validation)\n"
   ]
  },
  {
   "cell_type": "code",
   "execution_count": 30,
   "metadata": {},
   "outputs": [],
   "source": [
    "x_train_sum = [[x] for x in x_train_sum]\n",
    "x_val_sum = [[x] for x in x_val_sum]"
   ]
  },
  {
   "cell_type": "code",
   "execution_count": 31,
   "metadata": {},
   "outputs": [
    {
     "data": {
      "text/plain": [
       "Ridge(alpha=1.0, copy_X=True, fit_intercept=True, max_iter=None,\n",
       "      normalize=False, random_state=None, solver='auto', tol=0.001)"
      ]
     },
     "execution_count": 31,
     "metadata": {},
     "output_type": "execute_result"
    }
   ],
   "source": [
    "sumRidge = linear_model.Ridge(alpha=1.0)\n",
    "sumRidge.fit(x_train_sum,Y_train)"
   ]
  },
  {
   "cell_type": "code",
   "execution_count": 32,
   "metadata": {},
   "outputs": [
    {
     "data": {
      "text/plain": [
       "6559.686875103911"
      ]
     },
     "execution_count": 32,
     "metadata": {},
     "output_type": "execute_result"
    }
   ],
   "source": [
    "y_sum_pred = sumRidge.predict(x_val_sum)\n",
    "MSE(y_sum_pred,Y_val)\n",
    "# MSE on the validation using the sum of all values in the steps model, not accurate lots of noise"
   ]
  },
  {
   "cell_type": "code",
   "execution_count": 36,
   "metadata": {},
   "outputs": [
    {
     "data": {
      "text/plain": [
       "[]"
      ]
     },
     "execution_count": 36,
     "metadata": {},
     "output_type": "execute_result"
    },
    {
     "data": {
      "image/png": "[encoded data removed]",
      "text/plain": [
       "<Figure size 432x288 with 1 Axes>"
      ]
     },
     "metadata": {
      "needs_background": "light"
     },
     "output_type": "display_data"
    }
   ],
   "source": [
    "plt.hist(Y_train,bins=50)\n",
    "plt.plot()"
   ]
  },
  {
   "cell_type": "code",
   "execution_count": 38,
   "metadata": {},
   "outputs": [
    {
     "data": {
      "text/plain": [
       "6560.841219589999"
      ]
     },
     "execution_count": 38,
     "metadata": {},
     "output_type": "execute_result"
    }
   ],
   "source": [
    "MSE([np.mean(Y_val) for i in range(len(Y_val))], Y_val)\n",
    "#MSE if i guess the average everytime"
   ]
  },
  {
   "cell_type": "markdown",
   "metadata": {},
   "source": [
    "### Bag of Words with ingredients"
   ]
  },
  {
   "cell_type": "code",
   "execution_count": 46,
   "metadata": {},
   "outputs": [],
   "source": [
    "ingredientCount = defaultdict(int)\n",
    "for t in train:\n",
    "    for ing in t[\"ingredients\"]:\n",
    "        ingredientCount[ing] += 1"
   ]
  },
  {
   "cell_type": "code",
   "execution_count": 48,
   "metadata": {},
   "outputs": [
    {
     "data": {
      "text/plain": [
       "[(70355, 'salt'),\n",
       " (45391, 'butter'),\n",
       " (36380, 'sugar'),\n",
       " (32113, 'onion'),\n",
       " (28322, 'water'),\n",
       " (27869, 'eggs'),\n",
       " (27120, 'olive oil'),\n",
       " (21614, 'flour'),\n",
       " (21287, 'milk'),\n",
       " (21020, 'garlic cloves')]"
      ]
     },
     "execution_count": 48,
     "metadata": {},
     "output_type": "execute_result"
    }
   ],
   "source": [
    "ingCountList = [(ingredientCount[w], w) for w in ingredientCount]\n",
    "ingCountList.sort(reverse=True)\n",
    "ingCountList[:10]"
   ]
  },
  {
   "cell_type": "code",
   "execution_count": 58,
   "metadata": {},
   "outputs": [
    {
     "data": {
      "text/plain": [
       "['salt',\n",
       " 'butter',\n",
       " 'sugar',\n",
       " 'onion',\n",
       " 'water',\n",
       " 'eggs',\n",
       " 'olive oil',\n",
       " 'flour',\n",
       " 'milk',\n",
       " 'garlic cloves']"
      ]
     },
     "execution_count": 58,
     "metadata": {},
     "output_type": "execute_result"
    }
   ],
   "source": [
    "n = 5000\n",
    "topNIng = []\n",
    "for i in range(n):\n",
    "    topNIng.append(ingCountList[i][1])\n",
    "topNIng[:10]"
   ]
  },
  {
   "cell_type": "code",
   "execution_count": 59,
   "metadata": {},
   "outputs": [],
   "source": [
    "topNIngSet = set(topNIng)\n",
    "ingIdDict = dict(zip(topNIng, range(len(topNIng))))"
   ]
  },
  {
   "cell_type": "code",
   "execution_count": 60,
   "metadata": {},
   "outputs": [],
   "source": [
    "def createBagofWords(data,n):\n",
    "    bag = [0]*n\n",
    "    ing = data[\"ingredients\"]\n",
    "    for i in ing:\n",
    "        if i in topNIngSet:\n",
    "            bag[ingIdDict[i]] += 1\n",
    "    return bag"
   ]
  },
  {
   "cell_type": "code",
   "execution_count": 61,
   "metadata": {},
   "outputs": [],
   "source": [
    "X_train_ing =  [createBagofWords(d,n) for d in train]\n",
    "X_val_ing =  [createBagofWords(d,n) for d in validation]"
   ]
  },
  {
   "cell_type": "code",
   "execution_count": 62,
   "metadata": {},
   "outputs": [],
   "source": [
    "# training model\n",
    "inglr = linear_model.LinearRegression()\n",
    "inglr.fit(X_train_ing, Y_train)\n",
    "y_validation_pred_words = inglr.predict(X_val_ing)"
   ]
  },
  {
   "cell_type": "code",
   "execution_count": 63,
   "metadata": {},
   "outputs": [
    {
     "data": {
      "text/plain": [
       "4942.422224495904"
      ]
     },
     "execution_count": 63,
     "metadata": {},
     "output_type": "execute_result"
    }
   ],
   "source": [
    "# MSE of above model\n",
    "MSE(y_validation_pred_words,Y_val)"
   ]
  },
  {
   "cell_type": "code",
   "execution_count": null,
   "metadata": {},
   "outputs": [],
   "source": [
    "#MSE is too high"
   ]
  },
  {
   "cell_type": "markdown",
   "metadata": {},
   "source": [
    "### TF IDF"
   ]
  },
  {
   "cell_type": "code",
   "execution_count": 64,
   "metadata": {},
   "outputs": [],
   "source": [
    "from sklearn.feature_extraction.text import TfidfVectorizer"
   ]
  },
  {
   "cell_type": "code",
   "execution_count": 65,
   "metadata": {},
   "outputs": [
    {
     "data": {
      "text/plain": [
       "'heat a ridged griddle pan\\tlightly brush the tomato slices and bread with some olive oil\\tcook the tomato slices first , for at least 5 minutes\\twhen they are almost ready , toast the bread in the same pan until well bar-marked\\tin the meantime , pour a little olive oil into a small frying pan and crack in the egg\\tallow it to set for a minute or so and add the garlic and chilli\\tcook for a couple of minutes , spooning the hot oil over the egg until cooked to your liking\\tplace the griddled bread on a plate and quickly spoon the tomatoes on top\\tthrow the chives into the egg pan and splash in the balsamic vinegar\\tseason well , then slide the egg on to the tomatoes and drizzle the pan juices on top\\tserve immediately , with a good cup of tea !'"
      ]
     },
     "execution_count": 65,
     "metadata": {},
     "output_type": "execute_result"
    }
   ],
   "source": [
    "allsteps = [d[\"steps\"] for d in train]\n",
    "allsteps[0]"
   ]
  },
  {
   "cell_type": "code",
   "execution_count": 67,
   "metadata": {},
   "outputs": [
    {
     "data": {
      "text/plain": [
       "TfidfVectorizer(analyzer='word', binary=False, decode_error='strict',\n",
       "                dtype=<class 'numpy.float64'>, encoding='utf-8',\n",
       "                input='content', lowercase=True, max_df=1.0, max_features=None,\n",
       "                min_df=1, ngram_range=(1, 1), norm='l2', preprocessor=None,\n",
       "                smooth_idf=True, stop_words=None, strip_accents='ascii',\n",
       "                sublinear_tf=False, token_pattern='(?u)\\\\b\\\\w\\\\w+\\\\b',\n",
       "                tokenizer=None, use_idf=True, vocabulary=None)"
      ]
     },
     "execution_count": 67,
     "metadata": {},
     "output_type": "execute_result"
    }
   ],
   "source": [
    "tf = TfidfVectorizer(strip_accents=\"ascii\")\n",
    "tf.fit(allsteps)"
   ]
  },
  {
   "cell_type": "code",
   "execution_count": 83,
   "metadata": {},
   "outputs": [],
   "source": [
    "tfTrain = tf.transform(allsteps)"
   ]
  },
  {
   "cell_type": "code",
   "execution_count": 84,
   "metadata": {},
   "outputs": [],
   "source": [
    "valSteps = [d[\"steps\"] for d in validation]\n",
    "tfVal = tf.transform(valSteps)"
   ]
  },
  {
   "cell_type": "code",
   "execution_count": 85,
   "metadata": {},
   "outputs": [],
   "source": [
    "# training model\n",
    "tfLR = linear_model.LinearRegression()\n",
    "tfLR.fit(tfTrain, Y_train)\n",
    "tfPredicted = tfLR.predict(tfVal)"
   ]
  },
  {
   "cell_type": "code",
   "execution_count": 86,
   "metadata": {},
   "outputs": [
    {
     "data": {
      "text/plain": [
       "3860.781017628146"
      ]
     },
     "execution_count": 86,
     "metadata": {},
     "output_type": "execute_result"
    }
   ],
   "source": [
    "#MSE for TF IDF\n",
    "MSE(tfPredicted,Y_val)"
   ]
  },
  {
   "cell_type": "code",
   "execution_count": 97,
   "metadata": {},
   "outputs": [],
   "source": [
    "from sklearn.pipeline import Pipeline"
   ]
  },
  {
   "cell_type": "code",
   "execution_count": 98,
   "metadata": {},
   "outputs": [],
   "source": [
    "# more efficient implementation\n",
    "tfidfModel = Pipeline([\n",
    "    (\"tf idf\", TfidfVectorizer(stop_words=\"english\", strip_accents=\"ascii\")),\n",
    "    (\"SGD\", linear_model.SGDRegressor(loss=\"squared_loss\", max_iter=4000))\n",
    "])"
   ]
  },
  {
   "cell_type": "code",
   "execution_count": null,
   "metadata": {},
   "outputs": [],
   "source": []
  },
  {
   "cell_type": "markdown",
   "metadata": {},
   "source": [
    "#### Writing predictions"
   ]
  },
  {
   "cell_type": "code",
   "execution_count": 108,
   "metadata": {},
   "outputs": [],
   "source": [
    "finalX = []\n",
    "finalY = []\n",
    "for d in readGz(\"assignment1/trainRecipes.json.gz\"):\n",
    "    temp = d[\"steps\"] + \" \" + d[\"description\"]\n",
    "    finalX.append(temp)\n",
    "    finalY.append(d[\"minutes\"])"
   ]
  },
  {
   "cell_type": "code",
   "execution_count": 109,
   "metadata": {},
   "outputs": [
    {
     "data": {
      "text/plain": [
       "Pipeline(memory=None,\n",
       "         steps=[('tf idf',\n",
       "                 TfidfVectorizer(analyzer='word', binary=False,\n",
       "                                 decode_error='strict',\n",
       "                                 dtype=<class 'numpy.float64'>,\n",
       "                                 encoding='utf-8', input='content',\n",
       "                                 lowercase=True, max_df=1.0, max_features=None,\n",
       "                                 min_df=1, ngram_range=(1, 1), norm='l2',\n",
       "                                 preprocessor=None, smooth_idf=True,\n",
       "                                 stop_words='english', strip_accents='ascii',\n",
       "                                 sublinear_tf=False,\n",
       "                                 token_p...\n",
       "                                 vocabulary=None)),\n",
       "                ('SGD',\n",
       "                 SGDRegressor(alpha=0.0001, average=False, early_stopping=False,\n",
       "                              epsilon=0.1, eta0=0.01, fit_intercept=True,\n",
       "                              l1_ratio=0.15, learning_rate='invscaling',\n",
       "                              loss='squared_loss', max_iter=4000,\n",
       "                              n_iter_no_change=5, penalty='l2', power_t=0.25,\n",
       "                              random_state=None, shuffle=True, tol=0.001,\n",
       "                              validation_fraction=0.1, verbose=0,\n",
       "                              warm_start=False))],\n",
       "         verbose=False)"
      ]
     },
     "execution_count": 109,
     "metadata": {},
     "output_type": "execute_result"
    }
   ],
   "source": [
    "tfidfModel.fit(finalX,finalY)"
   ]
  },
  {
   "cell_type": "code",
   "execution_count": 110,
   "metadata": {},
   "outputs": [],
   "source": [
    "cooktimepred = open(\"cooktimepred.txt\", 'w')\n",
    "cooktimepred.write(\"recipe_id,prediction\\n\")\n",
    "for d in readGz(\"assignment1/testRecipes.json.gz\"):\n",
    "    t = d[\"steps\"] + \" \" + d[\"description\"]\n",
    "    x = [t]\n",
    "    pred = tfidfModel.predict(x)[0]\n",
    "    cooktimepred.write(d['recipe_id'] + ',' + str(pred) + '\\n')\n",
    "cooktimepred.close()"
   ]
  },
  {
   "cell_type": "code",
   "execution_count": null,
   "metadata": {},
   "outputs": [],
   "source": []
  }
 ],
 "metadata": {
  "interpreter": {
   "hash": "472f3460692ba2c0861145e5e150d03c8a5c0e40e057944a047c431b9050b93d"
  },
  "kernelspec": {
   "display_name": "Python 3.7.6 64-bit ('base': conda)",
   "language": "python",
   "name": "python3"
  },
  "language_info": {
   "codemirror_mode": {
    "name": "ipython",
    "version": 3
   },
   "file_extension": ".py",
   "mimetype": "text/x-python",
   "name": "python",
   "nbconvert_exporter": "python",
   "pygments_lexer": "ipython3",
   "version": "3.8.3"
  },
  "orig_nbformat": 4
 },
 "nbformat": 4,
 "nbformat_minor": 2
}
