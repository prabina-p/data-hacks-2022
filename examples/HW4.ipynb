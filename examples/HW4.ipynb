{
 "cells": [
  {
   "cell_type": "code",
   "execution_count": 11,
   "metadata": {},
   "outputs": [],
   "source": [
    "import gzip\n",
    "from collections import defaultdict\n",
    "import math\n",
    "import scipy.optimize\n",
    "import numpy as np\n",
    "import string\n",
    "import random\n",
    "from sklearn import linear_model\n",
    "from sklearn.preprocessing import OneHotEncoder\n",
    "from sklearn.linear_model import Ridge\n",
    "from sklearn.feature_extraction.text import TfidfVectorizer"
   ]
  },
  {
   "cell_type": "code",
   "execution_count": 13,
   "metadata": {},
   "outputs": [],
   "source": [
    "import tensorflow as tf"
   ]
  },
  {
   "cell_type": "code",
   "execution_count": 6,
   "metadata": {},
   "outputs": [],
   "source": [
    "def readGz(path):    \n",
    "    for l in gzip.open(path, 'rt', encoding='cp437', errors='ignore'):        \n",
    "        yield eval(l)"
   ]
  },
  {
   "cell_type": "code",
   "execution_count": 8,
   "metadata": {},
   "outputs": [],
   "source": [
    "dataset = []\n",
    "for l in readGz(\"goodreads_reviews_comics_graphic.json.gz\"):    \n",
    "    dataset.append(l)"
   ]
  },
  {
   "cell_type": "code",
   "execution_count": 9,
   "metadata": {},
   "outputs": [
    {
     "data": {
      "text/plain": [
       "{'user_id': 'dc3763cdb9b2cae805882878eebb6a32',\n",
       " 'book_id': '18471619',\n",
       " 'review_id': '66b2ba840f9bd36d6d27f46136fe4772',\n",
       " 'rating': 3,\n",
       " 'review_text': 'Sherlock Holmes and the Vampires of London \\n Release Date: April 2014 \\n Publisher: Darkhorse Comics \\n Story by: Sylvain Cordurie \\n Art by: Laci \\n Colors by: Axel Gonzabo \\n Cover by: Jean Sebastien Rossbach \\n ISDN: 9781616552664 \\n MSRP: $17.99 Hardcover \\n \"Sherlock Holmes died fighting Professor Moriarty in the Reichenbach Falls. \\n At least, that\\'s what the press claims. \\n However, Holmes is alive and well and taking advantage of his presumed death to travel the globe. \\n Unfortunately, Holmes\\'s plans are thwarted when a plague of vampirism haunts Britain. \\n This book collects Sherlock Holmes and the Vampires of London Volumes 1 and 2, originally created by French publisher Soleil.\" - Darkhorse Comics \\n When I received this copy of \"Sherlock Holmes and the Vampires of London\" I was Ecstatic! The cover art was awesome and it was about two of my favorite things, Sherlock Holmes and Vampires. I couldn\\'t wait to dive into this! \\n Unfortunately, that is where my excitement ended. The story takes place a month after Sherlock Holmes supposed death in his battle with Professor Moriarty. Sherlock\\'s plan to stay hidden and out of site are ruined when on a trip with his brother Mycroft, they stumble on the presence of vampires. That is about as much of Sherlock\\'s character that comes through the book. I can\\'t even tell you the story really because nothing and I mean nothing stuck with me after reading it. I never, ever got the sense of Sherlock Holmes anywhere in this graphic novel, nor any real sense of mystery or crime. It was just Sherlock somehow battling vampires that should have had absolutely no trouble snuffing him out in a fight, but somehow always surviving and holding his own against supernatural, super powerful, blazingly fast creatures. \\n The cover art is awesome and it truly made me excited to read this but everything else feel completely flat for me. I tried telling myself that \"it\\'s a graphic novel, it would be hard to translate mystery, details, emotion\" but then I remembered reading DC Comic\\'s \"Identity Crisis\" and realized that was a load of crap. I know it\\'s unfair to compare the two as \"Identity Crisis\" had popular mystery author Brad Meltzer writing it right? Yeah....no. The standard was set that day and there is more than enough talent out there to create a great story in a graphic novel. \\n That being said, it wasn\\'t a horrible story, it just didn\\'t grip me for feel anything like Sherlock Holmes to me. It was easy enough to follow but I felt no sense of tension, stakes or compassion for any of the characters. \\n As far as the vampires go, it\\'s hard to know what to expect anymore as there are so many different versions these days. This was the more classic version which I personally prefer, but again I didn\\'t find anything that portrayed their dominance, calm confidence or sexuality. There was definitely a presence of their physical prowess but somehow that was lost on me as easily as Sherlock was able to defend himself. I know it, wouldn\\'t do to kill of the main character, but this would have a been a great opportunity to build around the experience and beguiling nature of a vampire that had lived so many years of experience. Another chance to showcase Sherlock\\'s intellect in a battle of wits over strength in something more suitable for this sort of story as apposed to trying to make it feel like an action movie. \\n Maybe I expected to much and hoped to have at least a gripping premise or some sort of interesting plot or mystery but I didn\\'t find it here. This may be a must have for serious Sherlock Holmes fans that have to collect everything about him, but if you are looking for a great story inside a graphic novel, I would have to say pass on this one. \\n That artwork is good, cover is great, story is lacking so I am giving it 2.5 out of 5 stars.',\n",
       " 'date_added': 'Thu Dec 05 10:44:25 -0800 2013',\n",
       " 'date_updated': 'Thu Dec 05 10:45:15 -0800 2013',\n",
       " 'read_at': 'Tue Nov 05 00:00:00 -0800 2013',\n",
       " 'started_at': '',\n",
       " 'n_votes': 0,\n",
       " 'n_comments': 0}"
      ]
     },
     "execution_count": 9,
     "metadata": {},
     "output_type": "execute_result"
    }
   ],
   "source": [
    "dataset[0]"
   ]
  },
  {
   "cell_type": "code",
   "execution_count": 15,
   "metadata": {},
   "outputs": [],
   "source": [
    "train = dataset[:10000]\n",
    "test = dataset[10000:20000]\n"
   ]
  },
  {
   "cell_type": "code",
   "execution_count": 23,
   "metadata": {},
   "outputs": [],
   "source": [
    "trainX = [d[\"review_text\"] for d in train]\n",
    "trainY = [d[\"rating\"] for d in train]\n",
    "testX = [d[\"review_text\"] for d in test]\n",
    "testY = [d[\"rating\"] for d in test]"
   ]
  },
  {
   "cell_type": "code",
   "execution_count": 21,
   "metadata": {},
   "outputs": [],
   "source": [
    "def MSE(y, ypred):\n",
    "    y = np.array(y)\n",
    "    ypred = np.array(ypred)\n",
    "    return np.mean((y-ypred)**2)"
   ]
  },
  {
   "cell_type": "markdown",
   "metadata": {},
   "source": [
    "### Question #1A\n"
   ]
  },
  {
   "cell_type": "code",
   "execution_count": 22,
   "metadata": {},
   "outputs": [],
   "source": [
    "tfidf1a = TfidfVectorizer(strip_accents=\"ascii\", lowercase=True,ngram_range=(1,1),max_features=1000)\n",
    "tfTrain = tfidf1a.fit_transform(trainX)   "
   ]
  },
  {
   "cell_type": "code",
   "execution_count": 25,
   "metadata": {},
   "outputs": [],
   "source": [
    "tfTest = tfidf1a.transform(testX)"
   ]
  },
  {
   "cell_type": "code",
   "execution_count": 26,
   "metadata": {},
   "outputs": [],
   "source": [
    "ridge1a = Ridge(alpha=1)\n",
    "\n",
    "ridge1a.fit(tfTrain, trainY)\n",
    "tfPredicted = ridge1a.predict(tfTest)"
   ]
  },
  {
   "cell_type": "code",
   "execution_count": 27,
   "metadata": {},
   "outputs": [
    {
     "data": {
      "text/plain": [
       "1.1154806580750893"
      ]
     },
     "execution_count": 27,
     "metadata": {},
     "output_type": "execute_result"
    }
   ],
   "source": [
    "#MSE for 1a)\n",
    "MSE(tfPredicted,testY)"
   ]
  },
  {
   "cell_type": "code",
   "execution_count": 54,
   "metadata": {},
   "outputs": [],
   "source": [
    "tokens1a = list(zip(ridge1a.coef_, tfidf1a.get_feature_names()))\n",
    "tokens1a.sort() \n",
    "tokens1a.reverse()"
   ]
  },
  {
   "cell_type": "code",
   "execution_count": 56,
   "metadata": {},
   "outputs": [
    {
     "data": {
      "text/plain": [
       "[(1.9919107377226106, 'terrific'),\n",
       " (1.9125920850091802, 'superb'),\n",
       " (1.8583980663463953, 'great'),\n",
       " (1.6997278983885968, 'beautifully'),\n",
       " (1.6959122254731824, 'perfect')]"
      ]
     },
     "execution_count": 56,
     "metadata": {},
     "output_type": "execute_result"
    }
   ],
   "source": [
    "# top 5 most positive tokens\n",
    "tokens1a[:5]"
   ]
  },
  {
   "cell_type": "code",
   "execution_count": 57,
   "metadata": {},
   "outputs": [
    {
     "data": {
      "text/plain": [
       "[(-1.856407777698812, 'not'),\n",
       " (-1.903575592705677, 'says'),\n",
       " (-2.1254347938262055, 'disappointing'),\n",
       " (-2.4500875531114277, 'boring'),\n",
       " (-2.5918207654193153, 'worst')]"
      ]
     },
     "execution_count": 57,
     "metadata": {},
     "output_type": "execute_result"
    }
   ],
   "source": [
    "# top 5 most negative tokens\n",
    "tokens1a[-5:]"
   ]
  },
  {
   "cell_type": "markdown",
   "metadata": {},
   "source": [
    "### Question #1B"
   ]
  },
  {
   "cell_type": "code",
   "execution_count": 28,
   "metadata": {},
   "outputs": [],
   "source": [
    "tfidf1b = TfidfVectorizer(strip_accents=\"ascii\", lowercase=True,ngram_range=(2,2),max_features=1000)\n",
    "tfTrain1b = tfidf1b.fit_transform(trainX)   "
   ]
  },
  {
   "cell_type": "code",
   "execution_count": 30,
   "metadata": {},
   "outputs": [],
   "source": [
    "tfTest1b = tfidf1b.transform(testX)"
   ]
  },
  {
   "cell_type": "code",
   "execution_count": 31,
   "metadata": {},
   "outputs": [],
   "source": [
    "ridge1b = Ridge(alpha=1)\n",
    "\n",
    "ridge1b.fit(tfTrain1b, trainY)\n",
    "tfPredicted1b = ridge1b.predict(tfTest1b)"
   ]
  },
  {
   "cell_type": "code",
   "execution_count": 32,
   "metadata": {},
   "outputs": [
    {
     "data": {
      "text/plain": [
       "1.2288547024077026"
      ]
     },
     "execution_count": 32,
     "metadata": {},
     "output_type": "execute_result"
    }
   ],
   "source": [
    "#MSE for 1b)\n",
    "MSE(tfPredicted1b,testY)"
   ]
  },
  {
   "cell_type": "code",
   "execution_count": 59,
   "metadata": {},
   "outputs": [],
   "source": [
    "tokens1b = list(zip(ridge1b.coef_, tfidf1b.get_feature_names()))\n",
    "tokens1b.sort() \n",
    "tokens1b.reverse()"
   ]
  },
  {
   "cell_type": "code",
   "execution_count": 60,
   "metadata": {},
   "outputs": [
    {
     "data": {
      "text/plain": [
       "[(1.389069251096654, 'loved this'),\n",
       " (1.355160602149556, 'continues to'),\n",
       " (1.3059432945295184, 'can wait'),\n",
       " (1.269640266166908, 'an excellent'),\n",
       " (1.2153650460590932, 'are also')]"
      ]
     },
     "execution_count": 60,
     "metadata": {},
     "output_type": "execute_result"
    }
   ],
   "source": [
    "# top 5 most positive tokens\n",
    "tokens1b[:5]"
   ]
  },
  {
   "cell_type": "code",
   "execution_count": 61,
   "metadata": {},
   "outputs": [
    {
     "data": {
      "text/plain": [
       "[(-1.3554697422590607, 'the problem'),\n",
       " (-1.3630487156326185, 'way too'),\n",
       " (-1.4959777906032645, 'unfortunately the'),\n",
       " (-1.6296080598746303, 'none of'),\n",
       " (-3.0096094600802368, 'the worst')]"
      ]
     },
     "execution_count": 61,
     "metadata": {},
     "output_type": "execute_result"
    }
   ],
   "source": [
    "# top 5 most negative tokens\n",
    "tokens1b[-5:]"
   ]
  },
  {
   "cell_type": "markdown",
   "metadata": {},
   "source": [
    "### Question1C"
   ]
  },
  {
   "cell_type": "code",
   "execution_count": 33,
   "metadata": {},
   "outputs": [],
   "source": [
    "tfidf1c = TfidfVectorizer(strip_accents=\"ascii\", lowercase=True,ngram_range=(1,2),max_features=1000)\n",
    "tfTrain1c = tfidf1c.fit_transform(trainX)   "
   ]
  },
  {
   "cell_type": "code",
   "execution_count": 34,
   "metadata": {},
   "outputs": [],
   "source": [
    "tfTest1c = tfidf1c.transform(testX)"
   ]
  },
  {
   "cell_type": "code",
   "execution_count": 35,
   "metadata": {},
   "outputs": [],
   "source": [
    "ridge1c = Ridge(alpha=1)\n",
    "\n",
    "ridge1c.fit(tfTrain1c, trainY)\n",
    "tfPredicted1c = ridge1c.predict(tfTest1c)"
   ]
  },
  {
   "cell_type": "code",
   "execution_count": 36,
   "metadata": {},
   "outputs": [
    {
     "data": {
      "text/plain": [
       "1.129727049674162"
      ]
     },
     "execution_count": 36,
     "metadata": {},
     "output_type": "execute_result"
    }
   ],
   "source": [
    "#MSE for 1b)\n",
    "MSE(tfPredicted1c,testY)"
   ]
  },
  {
   "cell_type": "code",
   "execution_count": 62,
   "metadata": {},
   "outputs": [],
   "source": [
    "tokens1c = list(zip(ridge1c.coef_, tfidf1c.get_feature_names()))\n",
    "tokens1c.sort() \n",
    "tokens1c.reverse()"
   ]
  },
  {
   "cell_type": "code",
   "execution_count": 63,
   "metadata": {},
   "outputs": [
    {
     "data": {
      "text/plain": [
       "[(2.08884651457944, 'terrific'),\n",
       " (1.9650754411290603, 'great'),\n",
       " (1.7283047984878783, 'perfect'),\n",
       " (1.6998397297811227, 'excellent'),\n",
       " (1.6665890631121125, 'fantastic')]"
      ]
     },
     "execution_count": 63,
     "metadata": {},
     "output_type": "execute_result"
    }
   ],
   "source": [
    "# top 5 most positive tokens\n",
    "tokens1c[:5]"
   ]
  },
  {
   "cell_type": "code",
   "execution_count": 64,
   "metadata": {},
   "outputs": [
    {
     "data": {
      "text/plain": [
       "[(-1.4428888160622093, 'least'),\n",
       " (-1.5666543930579626, 'part of'),\n",
       " (-1.6189756425298727, 'not'),\n",
       " (-1.8605188293505934, 'unfortunately'),\n",
       " (-2.067707136895699, 'dull')]"
      ]
     },
     "execution_count": 64,
     "metadata": {},
     "output_type": "execute_result"
    }
   ],
   "source": [
    "# top 5 most negative tokens\n",
    "tokens1c[-5:]"
   ]
  },
  {
   "cell_type": "markdown",
   "metadata": {},
   "source": [
    "### Question #2"
   ]
  },
  {
   "cell_type": "code",
   "execution_count": 45,
   "metadata": {},
   "outputs": [],
   "source": [
    "def Cosine(x1,x2):\n",
    "    numer = 0\n",
    "    norm1 = 0\n",
    "    norm2 = 0\n",
    "    for a1,a2 in zip(x1,x2):\n",
    "        numer += a1*a2\n",
    "        norm1 += a1**2\n",
    "        norm2 += a2**2\n",
    "    if norm1*norm2:\n",
    "        return numer / math.sqrt(norm1*norm2)\n",
    "    return 0"
   ]
  },
  {
   "cell_type": "code",
   "execution_count": 78,
   "metadata": {},
   "outputs": [],
   "source": [
    "query2 = tfidf1a.transform([trainX[0]]).toarray()[0]\n",
    "test = tfidf1a.transform([trainX[1]]).toarray()[0]"
   ]
  },
  {
   "cell_type": "code",
   "execution_count": 79,
   "metadata": {},
   "outputs": [
    {
     "data": {
      "text/plain": [
       "0.16679635334936602"
      ]
     },
     "execution_count": 79,
     "metadata": {},
     "output_type": "execute_result"
    }
   ],
   "source": [
    "Cosine(query2,test)"
   ]
  },
  {
   "cell_type": "code",
   "execution_count": 82,
   "metadata": {},
   "outputs": [],
   "source": [
    "similarities = []\n",
    "for i in range(1,len(train)):\n",
    "    temp = tfidf1a.transform([trainX[i]]).toarray()[0]\n",
    "    cos = Cosine(query2, temp)\n",
    "    similarities.append([cos,i])"
   ]
  },
  {
   "cell_type": "code",
   "execution_count": 85,
   "metadata": {},
   "outputs": [
    {
     "data": {
      "text/plain": [
       "[[0.6354899792038998, 8713],\n",
       " [0.6192151574342838, 1391],\n",
       " [0.6147157318637404, 8044],\n",
       " [0.6068424835251052, 8923],\n",
       " [0.6068424835251052, 8918]]"
      ]
     },
     "execution_count": 85,
     "metadata": {},
     "output_type": "execute_result"
    }
   ],
   "source": [
    "similarities.sort(reverse=True)\n",
    "similarities[:5]"
   ]
  },
  {
   "cell_type": "code",
   "execution_count": 87,
   "metadata": {},
   "outputs": [
    {
     "data": {
      "text/plain": [
       "8713"
      ]
     },
     "execution_count": 87,
     "metadata": {},
     "output_type": "execute_result"
    }
   ],
   "source": [
    "# ID of review\n",
    "mostSim = similarities[0][1]\n",
    "mostSim"
   ]
  },
  {
   "cell_type": "code",
   "execution_count": 88,
   "metadata": {},
   "outputs": [
    {
     "data": {
      "text/plain": [
       "'Originally posted on My Book Musings. \\n *Copy provided by launch event organizer for an honest review. \\n Anak Bathala: Kalem is the first book in a five-book graphic novel series, revolving around mythology of the old times. The first book is about Kalem\\'s search for why he is called \"Anak Bathala\" (demi-god). The language in the book has a mixture of English and Filipino terms, with Baybayin and Surat Mangyan scripts written in some parts of the book. \\n A brief overview of the whole series from their Facebook page: \\n Anak Bathala is the epic adventure of Kalem that showcases rich Filipino mythology and culture. It exhibits native Filipino beliefs and folk work intertwined with values. The other books included in the series collection are: Yamal, Arau, Yesha and Anak Bathala. Each character embodies intrinsic Filipino traits like admirable virtues of courage, determination, self-discipline, prudence, camaraderie and leadership. Their stories also uncover the deceiving sphere of glorious power. The elven persona of Yesha exudes the remarkable attributes of womanhood that represents Filipino women. Anak Bathala pays homage to the golden age of comic makers with its ground of artistic and detailed illustrations. \\n The final book of Anak Bathala juxtaposes the revolving characters of books 1-4 and how they will join together to overcome the evil transgression of Haring Nannum and Bathala Karimlan in the Land of Mystical Mindoro. \\n -oOo- \\n The story is fast-paced and interesting, but the story was too short for me to truly grasp Kalem\\'s character. But from what I have read so far, he seems nice, responsible, and brave. I thought he was going to have a love interest with his childhood friend, but reading on, I was thinking that it would be slightly hard for him to have a human relationship, especially if he has to go off into a battle. \\n I\\'m the type of reader who likes learning new things, whether they be fact or fiction. At first, I did not like the scripts used because I kept having to translate them myself. I was on page nine before I discovered that there are Filipino and English translations on pages 122 to 123. Gah. Silly me! I must say, though, that the scripts are easy to understand after a couple of pages of going back and forth. If you\\'re fluent in Filipino, I suggest you enjoy the scripts and translate them yourself. I think it\\'s part of the whole enjoying-the-graphic-novel process. \\n My primary beef with the graphic novel is that it is too dark to see the illustrations. I\\'m sure the illustrations are very nice, but too often, I had to strain my eyes to see the outlines. It made it hard for me to read and appreciate the graphic novel as a whole. The cover is nice, though. While the background is very dark, Kalem stands out, which I think is the whole point as he is the focus of book 1. \\n One thing that I did notice though is that Kalem seemed to grow older as the story progressed. I actually liked it, because I felt like the strain of the battle, the pain of losing Ba\\' was showing on his face. I felt the weight of their expectations upon him, and it was nice that these were reflected on his face. I don\\'t know if that was the intent of the creators, but it sure was a nice touch. \\n One part that confused me is the presence of the woman at the start of the novel. Though by the end of the book I pretty much knew, but it still would have been nice to know her, because I was confused as to why there is a woman there, amidst death and war. Also, by the end of the book, I wondered what happened to the mutia that Ba\\' Magiting got. Remember that? I don\\'t think it was mentioned in the story that Kalem has it, or what it is for. \\n Other things I noticed is that there are some errors such as in the line \"The panganay left Kalualhatian\". I think it lacks the word \"for\" in between left and Kalualhatian, because the idea is that he joined Bathala in Kalualhatian, leaving this world behind. Another is that there was a misplaced apostrophe in \"Detinos\\' reached further...\" \\n I\\'m hoping the next books would have more dialogue and explanations, as well as clearer images. There\\'s an excerpt of Kalem in their website and the graphics are gorgeous! I hope they\\'ll publish that edition. I\\'m not sure if it was just with my copy, but mine already had a few loose pages. I\\'m hoping that\\'s just in my case! \\n Am I going to get the next book? Probably! Because my attention was already grabbed by Anak Bathala: Kalem and I started to get curious as to what happens, and how he came to be on earth. Being a demi god, isn\\'t he supposed to be uh...somewhere else? So I\\'m really curious as to how his journey as and what his role is in the big picture. \\n If you\\'re a fan of mythology, Filipino fiction, looking for something new, a little bit of history mixed with fantasy, do be sure to check this out. Anak Bathala: Kalem is available at Fully Booked branches nationwide.'"
      ]
     },
     "execution_count": 88,
     "metadata": {},
     "output_type": "execute_result"
    }
   ],
   "source": [
    "# highest cosine similarity to first review\n",
    "trainX[mostSim]"
   ]
  },
  {
   "cell_type": "markdown",
   "metadata": {},
   "source": [
    "### Question #3"
   ]
  },
  {
   "cell_type": "code",
   "execution_count": 103,
   "metadata": {},
   "outputs": [],
   "source": [
    "from fastFM import als\n",
    "from scipy import sparse"
   ]
  },
  {
   "cell_type": "code",
   "execution_count": 98,
   "metadata": {},
   "outputs": [],
   "source": [
    "fm = als.FMRegression(n_iter=1000, init_stdev=0.1, rank=5, l2_reg_w=0.1, l2_reg_V=0.5)"
   ]
  },
  {
   "cell_type": "code",
   "execution_count": 93,
   "metadata": {},
   "outputs": [],
   "source": [
    "numInteractions = defaultdict()\n",
    "for d in dataset:\n",
    "    id = d['user_id']\n",
    "    if id not in numInteractions.keys():\n",
    "        numInteractions[id] = 1\n",
    "    else:\n",
    "        numInteractions[id] += 1"
   ]
  },
  {
   "cell_type": "code",
   "execution_count": 95,
   "metadata": {},
   "outputs": [],
   "source": [
    "threeInteractions = []\n",
    "for key in numInteractions.keys():\n",
    "    if numInteractions[key] >= 3:\n",
    "        threeInteractions.append(key)"
   ]
  },
  {
   "cell_type": "code",
   "execution_count": 97,
   "metadata": {},
   "outputs": [],
   "source": [
    "threeInteractions = set(threeInteractions)"
   ]
  },
  {
   "cell_type": "code",
   "execution_count": 99,
   "metadata": {},
   "outputs": [],
   "source": [
    "threeOrMoreDataset = []\n",
    "for d in dataset:\n",
    "    if d[\"user_id\"] in threeInteractions:\n",
    "        threeOrMoreDataset.append(d)"
   ]
  },
  {
   "cell_type": "code",
   "execution_count": 100,
   "metadata": {},
   "outputs": [
    {
     "data": {
      "text/plain": [
       "498312"
      ]
     },
     "execution_count": 100,
     "metadata": {},
     "output_type": "execute_result"
    }
   ],
   "source": [
    "len(threeOrMoreDataset)"
   ]
  },
  {
   "cell_type": "markdown",
   "metadata": {},
   "source": [
    "### 3a)"
   ]
  },
  {
   "cell_type": "code",
   "execution_count": 102,
   "metadata": {},
   "outputs": [],
   "source": [
    "userIndex = {} \n",
    "bookIndex = {}\n",
    "for d in threeOrMoreDataset:\n",
    "    if d['user_id'] not in userIndex: \n",
    "        userIndex[d['user_id']] = len(userIndex)\n",
    "    if d['book_id'] not in bookIndex: \n",
    "        bookIndex[d['book_id']] = len(bookIndex)"
   ]
  },
  {
   "cell_type": "code",
   "execution_count": 104,
   "metadata": {},
   "outputs": [],
   "source": [
    "X3a = sparse.lil_matrix((len(threeOrMoreDataset), len(userIndex) + len(bookIndex))) \n",
    "for i in range(len(threeOrMoreDataset)):\n",
    "    user = userIndex[threeOrMoreDataset[i]['user_id']] \n",
    "    book = bookIndex[threeOrMoreDataset[i]['book_id']] \n",
    "    X3a[i, user] = 1\n",
    "    X3a[i, len(userIndex) + book] = 1"
   ]
  },
  {
   "cell_type": "code",
   "execution_count": 105,
   "metadata": {},
   "outputs": [],
   "source": [
    "Y3a = np.array([d['rating'] for d in threeOrMoreDataset])"
   ]
  },
  {
   "cell_type": "code",
   "execution_count": 106,
   "metadata": {},
   "outputs": [],
   "source": [
    "# split data into train, test 50/50\n",
    "# unable to figure out how to make test set w only last item \n",
    "X_train_3A = X3a[:len(threeOrMoreDataset)//2] \n",
    "X_test_3A = X3a[len(threeOrMoreDataset)//2:] \n",
    "y_train_3A = Y3a[:len(threeOrMoreDataset)//2] \n",
    "y_test_3A = Y3a[len(threeOrMoreDataset)//2:]"
   ]
  },
  {
   "cell_type": "code",
   "execution_count": 107,
   "metadata": {},
   "outputs": [],
   "source": [
    "fm.fit(X_train_3A, y_train_3A) \n",
    "y_train_pred_3a = fm.predict(X_train_3A) \n",
    "y_test_pred_3a = fm.predict(X_test_3A)"
   ]
  },
  {
   "cell_type": "code",
   "execution_count": 108,
   "metadata": {},
   "outputs": [
    {
     "name": "stdout",
     "output_type": "stream",
     "text": [
      "Train MSE: 0.16367998663387837 \n",
      " Test MSE: 1.2716459521917163\n"
     ]
    }
   ],
   "source": [
    "print(\"Train MSE: {0} \\n Test MSE: {1}\".format(MSE(y_train_3A,y_train_pred_3a), MSE(y_test_3A,y_test_pred_3a)))"
   ]
  },
  {
   "cell_type": "markdown",
   "metadata": {},
   "source": [
    "### 3B)"
   ]
  },
  {
   "cell_type": "code",
   "execution_count": 109,
   "metadata": {},
   "outputs": [],
   "source": [
    "import dateutil"
   ]
  },
  {
   "cell_type": "code",
   "execution_count": 111,
   "metadata": {},
   "outputs": [],
   "source": [
    "userIDs = {}\n",
    "itemIDs = {}\n",
    "interactions = []\n",
    "interactionsPerUser = defaultdict(list)\n",
    "for d in threeOrMoreDataset: \n",
    "    u = d['user_id']\n",
    "    i = d['book_id']\n",
    "    t = d['date_added'] \n",
    "    r = d['rating']\n",
    "    dt = dateutil.parser.parse(t)\n",
    "    t = int(dt.timestamp())\n",
    "    if u not in userIDs: \n",
    "        userIDs[u] = len(userIDs) \n",
    "    if i not in itemIDs: \n",
    "        itemIDs[i] = len(itemIDs) \n",
    "    interactions.append((t, u, i, r)) \n",
    "    interactionsPerUser[u].append((t, i, r))"
   ]
  },
  {
   "cell_type": "code",
   "execution_count": 112,
   "metadata": {},
   "outputs": [],
   "source": [
    "interactions.sort()\n"
   ]
  },
  {
   "cell_type": "code",
   "execution_count": 114,
   "metadata": {},
   "outputs": [],
   "source": [
    "itemIDs['blank'] = len(itemIDs)"
   ]
  },
  {
   "cell_type": "code",
   "execution_count": 113,
   "metadata": {},
   "outputs": [],
   "source": [
    "interactionsWithPrevious = []\n",
    "for u in interactionsPerUser: \n",
    "    interactionsPerUser[u].sort()\n",
    "    prevItem = 'blank'\n",
    "    for (t, i, r) in interactionsPerUser[u]:\n",
    "        interactionsWithPrevious.append((t, u, i, prevItem, r)) \n",
    "        prevItem = i"
   ]
  },
  {
   "cell_type": "code",
   "execution_count": 115,
   "metadata": {},
   "outputs": [],
   "source": [
    "X3B = sparse.lil_matrix((len(threeOrMoreDataset), 2*len(itemIDs)))"
   ]
  },
  {
   "cell_type": "code",
   "execution_count": 116,
   "metadata": {},
   "outputs": [],
   "source": [
    "y3b = np.array([])\n",
    "for i in range(len(interactionsWithPrevious)):\n",
    "    item = itemIDs[interactionsWithPrevious[i][2]] \n",
    "    j = itemIDs[interactionsWithPrevious[i][3]]\n",
    "    r = interactionsWithPrevious[i][4]\n",
    "    y3b = np.append(y3b, r)\n",
    "    X3B[i, item] = 1\n",
    "    X3B[i, len(itemIDs) + j] = 1"
   ]
  },
  {
   "cell_type": "code",
   "execution_count": 117,
   "metadata": {},
   "outputs": [],
   "source": [
    "X_train_3b = X3B[:len(threeOrMoreDataset)//2] \n",
    "X_test_3b = X3B[len(threeOrMoreDataset)//2:] \n",
    "y_train_3b = y3b[:len(threeOrMoreDataset)//2] \n",
    "y_test_3b = y3b[len(threeOrMoreDataset)//2:]"
   ]
  },
  {
   "cell_type": "code",
   "execution_count": 118,
   "metadata": {},
   "outputs": [],
   "source": [
    "fm.fit(X_train_3b, y_train_3b) \n",
    "y_train_pred_3b = fm.predict(X_train_3b) \n",
    "y_test_pred_3b = fm.predict(X_test_3b)"
   ]
  },
  {
   "cell_type": "code",
   "execution_count": 119,
   "metadata": {},
   "outputs": [
    {
     "name": "stdout",
     "output_type": "stream",
     "text": [
      "Train MSE: 15.423579326844676 \n",
      " Test MSE: 15.519368302383407\n"
     ]
    }
   ],
   "source": [
    "print(\"Train MSE: {0} \\n Test MSE: {1}\".format(MSE(y_train_3b,y_train_pred_3b), MSE(y_test_pred_3b,y_test_3b)))"
   ]
  },
  {
   "cell_type": "markdown",
   "metadata": {},
   "source": [
    "### 3C"
   ]
  },
  {
   "cell_type": "code",
   "execution_count": 120,
   "metadata": {},
   "outputs": [],
   "source": [
    "X3C = sparse.lil_matrix((len(threeOrMoreDataset), len(userIDs) + 2*len(itemIDs))) \n",
    "y3c = np.array([])\n",
    "for i in range(len(interactionsWithPrevious)):\n",
    "    u = userIDs[interactionsWithPrevious[i][1]] \n",
    "    item = itemIDs[interactionsWithPrevious[i][2]] \n",
    "    j = itemIDs[interactionsWithPrevious[i][3]]\n",
    "    r = interactionsWithPrevious[i][4]\n",
    "    y3c = np.append(y3c, r)\n",
    "    X3C[i, u] = 1\n",
    "    X3C[i, len(userIDs) + item] = 1\n",
    "    X3C[i, len(userIDs) + len(itemIDs) + j] = 1"
   ]
  },
  {
   "cell_type": "code",
   "execution_count": 121,
   "metadata": {},
   "outputs": [],
   "source": [
    "X_train_3c = X3C[:len(threeOrMoreDataset)//2] \n",
    "X_test_3c = X3C[len(threeOrMoreDataset)//2:] \n",
    "y_train_3c = y3c[:len(threeOrMoreDataset)//2] \n",
    "y_test_3c = y3c[len(threeOrMoreDataset)//2:]"
   ]
  },
  {
   "cell_type": "code",
   "execution_count": 122,
   "metadata": {},
   "outputs": [],
   "source": [
    "fm.fit(X_train_3c, y_train_3c) \n",
    "y_train_pred_3c = fm.predict(X_train_3c) \n",
    "y_test_pred_3c = fm.predict(X_test_3c)"
   ]
  },
  {
   "cell_type": "code",
   "execution_count": 124,
   "metadata": {},
   "outputs": [
    {
     "name": "stdout",
     "output_type": "stream",
     "text": [
      "Train MSE: 15.476811459910877 \n",
      " Test MSE: 15.545373062035623\n"
     ]
    }
   ],
   "source": [
    "print(\"Train MSE: {0} \\n Test MSE: {1}\".format(MSE(y_train_3c,y_train_pred_3c), MSE(y_test_3c,y_test_pred_3c)))"
   ]
  },
  {
   "cell_type": "markdown",
   "metadata": {},
   "source": [
    "### 4) \n",
    "Instead of using the date of the book was added, I will use the time it was read"
   ]
  },
  {
   "cell_type": "code",
   "execution_count": 125,
   "metadata": {},
   "outputs": [
    {
     "data": {
      "text/plain": [
       "436032"
      ]
     },
     "execution_count": 125,
     "metadata": {},
     "output_type": "execute_result"
    }
   ],
   "source": [
    "readAtData = []\n",
    "for d in threeOrMoreDataset:\n",
    "    if len(d[\"read_at\"]) > 0:\n",
    "        readAtData.append(d)\n",
    "len(readAtData)"
   ]
  },
  {
   "cell_type": "code",
   "execution_count": 126,
   "metadata": {},
   "outputs": [],
   "source": [
    "userIDs = {}\n",
    "itemIDs = {}\n",
    "interactions = []\n",
    "interactionsPerUser = defaultdict(list)\n",
    "for d in readAtData: \n",
    "    u = d['user_id']\n",
    "    i = d['book_id']\n",
    "    t = d['date_added'] \n",
    "    r = d['rating']\n",
    "    dt = dateutil.parser.parse(t)\n",
    "    t = int(dt.timestamp())\n",
    "    if u not in userIDs: \n",
    "        userIDs[u] = len(userIDs) \n",
    "    if i not in itemIDs: \n",
    "        itemIDs[i] = len(itemIDs) \n",
    "    interactions.append((t, u, i, r)) \n",
    "    interactionsPerUser[u].append((t, i, r))"
   ]
  },
  {
   "cell_type": "code",
   "execution_count": 127,
   "metadata": {},
   "outputs": [],
   "source": [
    "itemIDs[\"blank\"] = len(itemIDs)"
   ]
  },
  {
   "cell_type": "code",
   "execution_count": 128,
   "metadata": {},
   "outputs": [],
   "source": [
    "interactionsWithPrevious = []\n",
    "for u in interactionsPerUser: \n",
    "    interactionsPerUser[u].sort()\n",
    "    prevItem = 'blank'\n",
    "    for (t, i, r) in interactionsPerUser[u]:\n",
    "        interactionsWithPrevious.append((t, u, i, prevItem, r)) \n",
    "        prevItem = i"
   ]
  },
  {
   "cell_type": "code",
   "execution_count": 131,
   "metadata": {},
   "outputs": [],
   "source": [
    "X4 = sparse.lil_matrix((len(readAtData), 2*len(itemIDs)))"
   ]
  },
  {
   "cell_type": "code",
   "execution_count": 132,
   "metadata": {},
   "outputs": [],
   "source": [
    "y4 = np.array([])\n",
    "for i in range(len(interactionsWithPrevious)):\n",
    "    item = itemIDs[interactionsWithPrevious[i][2]] \n",
    "    j = itemIDs[interactionsWithPrevious[i][3]]\n",
    "    r = interactionsWithPrevious[i][4]\n",
    "    y4 = np.append(y4, r)\n",
    "    X4[i, item] = 1\n",
    "    X4[i, len(itemIDs) + j] = 1"
   ]
  },
  {
   "cell_type": "code",
   "execution_count": 133,
   "metadata": {},
   "outputs": [],
   "source": [
    "X_train_4 = X4[:len(threeOrMoreDataset)//2] \n",
    "X_test_4 = X4[len(threeOrMoreDataset)//2:] \n",
    "y_train_4 = y4[:len(threeOrMoreDataset)//2] \n",
    "y_test_4 = y4[len(threeOrMoreDataset)//2:]"
   ]
  },
  {
   "cell_type": "code",
   "execution_count": 134,
   "metadata": {},
   "outputs": [],
   "source": [
    "fm.fit(X_train_4, y_train_4) \n",
    "y_train_pred_3c = fm.predict(X_train_4) \n",
    "y_test_pred_3c = fm.predict(X_test_4)"
   ]
  },
  {
   "cell_type": "code",
   "execution_count": 135,
   "metadata": {},
   "outputs": [
    {
     "name": "stdout",
     "output_type": "stream",
     "text": [
      "Train MSE: 15.491121563973316 \n",
      " Test MSE: 15.533281584157303\n"
     ]
    }
   ],
   "source": [
    "print(\"Train MSE: {0} \\n Test MSE: {1}\".format(MSE(y_train_4,y_train_pred_3c), MSE(y_test_pred_3c,y_test_4)))"
   ]
  },
  {
   "cell_type": "code",
   "execution_count": 136,
   "metadata": {},
   "outputs": [],
   "source": [
    "# not much improvement on MSE"
   ]
  },
  {
   "cell_type": "code",
   "execution_count": null,
   "metadata": {},
   "outputs": [],
   "source": []
  }
 ],
 "metadata": {
  "interpreter": {
   "hash": "472f3460692ba2c0861145e5e150d03c8a5c0e40e057944a047c431b9050b93d"
  },
  "kernelspec": {
   "display_name": "Python 3.7.6 64-bit ('base': conda)",
   "language": "python",
   "name": "python3"
  },
  "language_info": {
   "codemirror_mode": {
    "name": "ipython",
    "version": 3
   },
   "file_extension": ".py",
   "mimetype": "text/x-python",
   "name": "python",
   "nbconvert_exporter": "python",
   "pygments_lexer": "ipython3",
   "version": "3.7.6"
  },
  "orig_nbformat": 4
 },
 "nbformat": 4,
 "nbformat_minor": 2
}
