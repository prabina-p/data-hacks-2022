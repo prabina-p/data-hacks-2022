{
 "cells": [
  {
   "cell_type": "code",
   "execution_count": 154,
   "metadata": {},
   "outputs": [],
   "source": [
    "# import pandas as pd\n",
    "# import numpy as np\n",
    "# import matplotlib.pyplot as plt\n",
    "# from sklearn.linear_model import LogisticRegression\n",
    "# from sklearn.feature_extraction.text import TfidfVectorizer\n",
    "# import re\n",
    "# from sklearn.model_selection import train_test_split\n",
    "# from nltk.corpus  import stopwords\n",
    "# from nltk.stem import WordNetLemmatizer\n"
   ]
  },
  {
   "cell_type": "code",
<<<<<<< Updated upstream
   "execution_count": 155,
=======
   "execution_count": 1,
>>>>>>> Stashed changes
   "metadata": {},
   "outputs": [],
   "source": [
    "import pandas as pd\n",
    "import numpy as np\n",
    "# import pandas_profiling\n",
    "import re\n",
    "from nltk.corpus  import stopwords\n",
    "from nltk.stem import WordNetLemmatizer\n",
    "import seaborn as sns\n",
    "import matplotlib.pyplot as plt\n",
    "import warnings\n",
    "warnings.filterwarnings('ignore')\n",
    "# from sklearn.feature_extraction.text import CountVectorizer,TfidfVectorizer\n",
    "from sklearn.feature_extraction.text import TfidfVectorizer\n",
    "from wordcloud  import WordCloud\n",
    "# from textwrap import wrap\n",
    "from sklearn.model_selection import train_test_split\n",
    "from sklearn.preprocessing import LabelEncoder\n",
    "from sklearn.svm import SVC\n",
    "from sklearn.metrics import confusion_matrix\n",
    "# from PIL import Image\n",
    "from sklearn.linear_model import LogisticRegression"
   ]
  },
  {
   "cell_type": "code",
<<<<<<< Updated upstream
   "execution_count": 156,
=======
   "execution_count": 2,
>>>>>>> Stashed changes
   "metadata": {},
   "outputs": [
    {
     "data": {
      "text/html": [
       "<div>\n",
       "<style scoped>\n",
       "    .dataframe tbody tr th:only-of-type {\n",
       "        vertical-align: middle;\n",
       "    }\n",
       "\n",
       "    .dataframe tbody tr th {\n",
       "        vertical-align: top;\n",
       "    }\n",
       "\n",
       "    .dataframe thead th {\n",
       "        text-align: right;\n",
       "    }\n",
       "</style>\n",
       "<table border=\"1\" class=\"dataframe\">\n",
       "  <thead>\n",
       "    <tr style=\"text-align: right;\">\n",
       "      <th></th>\n",
       "      <th>Sentence</th>\n",
       "      <th>Sentiment</th>\n",
       "    </tr>\n",
       "  </thead>\n",
       "  <tbody>\n",
       "    <tr>\n",
       "      <th>0</th>\n",
       "      <td>According to the Finnish-Russian Chamber of Co...</td>\n",
       "      <td>neutral</td>\n",
       "    </tr>\n",
       "    <tr>\n",
       "      <th>1</th>\n",
       "      <td>The Swedish buyout firm has sold its remaining...</td>\n",
       "      <td>neutral</td>\n",
       "    </tr>\n",
       "    <tr>\n",
       "      <th>2</th>\n",
       "      <td>$SPY wouldn't be surprised to see a green close</td>\n",
       "      <td>positive</td>\n",
       "    </tr>\n",
       "    <tr>\n",
       "      <th>3</th>\n",
       "      <td>Shell's $70 Billion BG Deal Meets Shareholder ...</td>\n",
       "      <td>negative</td>\n",
       "    </tr>\n",
       "    <tr>\n",
       "      <th>4</th>\n",
       "      <td>SSH COMMUNICATIONS SECURITY CORP STOCK EXCHANG...</td>\n",
       "      <td>negative</td>\n",
       "    </tr>\n",
       "  </tbody>\n",
       "</table>\n",
       "</div>"
      ],
      "text/plain": [
       "                                            Sentence Sentiment\n",
       "0  According to the Finnish-Russian Chamber of Co...   neutral\n",
       "1  The Swedish buyout firm has sold its remaining...   neutral\n",
       "2    $SPY wouldn't be surprised to see a green close  positive\n",
       "3  Shell's $70 Billion BG Deal Meets Shareholder ...  negative\n",
       "4  SSH COMMUNICATIONS SECURITY CORP STOCK EXCHANG...  negative"
      ]
     },
<<<<<<< Updated upstream
     "execution_count": 156,
=======
     "execution_count": 2,
>>>>>>> Stashed changes
     "metadata": {},
     "output_type": "execute_result"
    }
   ],
   "source": [
    "data = pd.read_csv('data/trainset.csv')\n",
    "data.head()"
   ]
  },
  {
   "cell_type": "code",
<<<<<<< Updated upstream
   "execution_count": 157,
=======
   "execution_count": 3,
>>>>>>> Stashed changes
   "metadata": {},
   "outputs": [
    {
     "data": {
      "text/plain": [
       "(4382, 2)"
      ]
     },
<<<<<<< Updated upstream
     "execution_count": 157,
=======
     "execution_count": 3,
>>>>>>> Stashed changes
     "metadata": {},
     "output_type": "execute_result"
    }
   ],
   "source": [
    "data.shape"
   ]
  },
  {
   "cell_type": "markdown",
   "metadata": {},
   "source": [
    "#### 2. Feature Engineering"
   ]
  },
  {
   "cell_type": "code",
<<<<<<< Updated upstream
   "execution_count": 158,
=======
   "execution_count": 4,
>>>>>>> Stashed changes
   "metadata": {},
   "outputs": [],
   "source": [
    "def cleaning(df1):\n",
    "    lowered=df1.lower() # lowering the sentences \n",
    "    removed=re.sub(r'[^a-z]',' ',lowered)  # replacing the non alphabets with space \n",
    "    splitted=removed.split(' ')   # splitting the sentences by spaces to lemmatize\n",
    "    df1= [WordNetLemmatizer().lemmatize(word) for word in splitted if word not in stopwords.words('english')]  # lemmatizing and removing stopwords\n",
    "    df1=' '.join(df1) # joining back the words of list\n",
    "    return(removed)"
   ]
  },
  {
   "cell_type": "code",
<<<<<<< Updated upstream
   "execution_count": 159,
=======
   "execution_count": 5,
>>>>>>> Stashed changes
   "metadata": {},
   "outputs": [
    {
     "data": {
      "text/html": [
       "<div>\n",
       "<style scoped>\n",
       "    .dataframe tbody tr th:only-of-type {\n",
       "        vertical-align: middle;\n",
       "    }\n",
       "\n",
       "    .dataframe tbody tr th {\n",
       "        vertical-align: top;\n",
       "    }\n",
       "\n",
       "    .dataframe thead th {\n",
       "        text-align: right;\n",
       "    }\n",
       "</style>\n",
       "<table border=\"1\" class=\"dataframe\">\n",
       "  <thead>\n",
       "    <tr style=\"text-align: right;\">\n",
       "      <th></th>\n",
       "      <th>Sentence</th>\n",
       "      <th>Sentiment</th>\n",
       "    </tr>\n",
       "  </thead>\n",
       "  <tbody>\n",
       "    <tr>\n",
       "      <th>0</th>\n",
       "      <td>according to the finnish russian chamber of co...</td>\n",
       "      <td>neutral</td>\n",
       "    </tr>\n",
       "    <tr>\n",
       "      <th>1</th>\n",
       "      <td>the swedish buyout firm has sold its remaining...</td>\n",
       "      <td>neutral</td>\n",
       "    </tr>\n",
       "    <tr>\n",
       "      <th>2</th>\n",
       "      <td>spy wouldn t be surprised to see a green close</td>\n",
       "      <td>positive</td>\n",
       "    </tr>\n",
       "    <tr>\n",
       "      <th>3</th>\n",
       "      <td>shell s     billion bg deal meets shareholder ...</td>\n",
       "      <td>negative</td>\n",
       "    </tr>\n",
       "    <tr>\n",
       "      <th>4</th>\n",
       "      <td>ssh communications security corp stock exchang...</td>\n",
       "      <td>negative</td>\n",
       "    </tr>\n",
       "  </tbody>\n",
       "</table>\n",
       "</div>"
      ],
      "text/plain": [
       "                                            Sentence Sentiment\n",
       "0  according to the finnish russian chamber of co...   neutral\n",
       "1  the swedish buyout firm has sold its remaining...   neutral\n",
       "2     spy wouldn t be surprised to see a green close  positive\n",
       "3  shell s     billion bg deal meets shareholder ...  negative\n",
       "4  ssh communications security corp stock exchang...  negative"
      ]
     },
<<<<<<< Updated upstream
     "execution_count": 159,
=======
     "execution_count": 5,
>>>>>>> Stashed changes
     "metadata": {},
     "output_type": "execute_result"
    }
   ],
   "source": [
    "data['Sentence'] = data['Sentence'].apply(cleaning)\n",
    "data.head()"
   ]
  },
  {
   "cell_type": "code",
<<<<<<< Updated upstream
   "execution_count": 161,
=======
   "execution_count": 6,
>>>>>>> Stashed changes
   "metadata": {},
   "outputs": [
    {
     "data": {
      "text/plain": [
       "array(['according to the finnish russian chamber of commerce   all the major construction companies of finland are operating in russia  ',\n",
       "       'the swedish buyout firm has sold its remaining      percent stake   almost eighteen months after taking the company public in finland  ',\n",
       "       ' spy wouldn t be surprised to see a green close', ...,\n",
       "       'rising costs have forced packaging producer huhtamaki to axe    jobs at its hampshire manufacturing plant  ',\n",
       "       'in the building and home improvement trade   sales decreased by        to eur       mn  ',\n",
       "       'helsinki afx   kci konecranes said it has won an order for four hot metal ladle cranes from indian steel producer bhushan steel and strips ltd   '],\n",
       "      dtype=object)"
      ]
     },
<<<<<<< Updated upstream
     "execution_count": 161,
=======
     "execution_count": 6,
>>>>>>> Stashed changes
     "metadata": {},
     "output_type": "execute_result"
    }
   ],
   "source": [
    "data['Sentence'].values"
   ]
  },
  {
   "cell_type": "markdown",
   "metadata": {},
   "source": [
    "**Word Cloud**"
   ]
  },
  {
   "cell_type": "code",
<<<<<<< Updated upstream
   "execution_count": 162,
=======
   "execution_count": 7,
>>>>>>> Stashed changes
   "metadata": {},
   "outputs": [],
   "source": [
    "corpus=' '.join(data['Sentence']) # joins all words together so we can view a word cloud"
   ]
  },
  {
   "cell_type": "code",
<<<<<<< Updated upstream
   "execution_count": 163,
=======
   "execution_count": 8,
>>>>>>> Stashed changes
   "metadata": {},
   "outputs": [
    {
     "data": {
      "text/plain": [
<<<<<<< Updated upstream
       "<wordcloud.wordcloud.WordCloud at 0x7fa721d45370>"
      ]
     },
     "execution_count": 163,
=======
       "<wordcloud.wordcloud.WordCloud at 0x7fa749cce520>"
      ]
     },
     "execution_count": 8,
>>>>>>> Stashed changes
     "metadata": {},
     "output_type": "execute_result"
    }
   ],
   "source": [
    "word_cloud=WordCloud().generate(corpus)"
   ]
  },
  {
   "cell_type": "code",
<<<<<<< Updated upstream
   "execution_count": 164,
=======
   "execution_count": 10,
>>>>>>> Stashed changes
   "metadata": {},
   "outputs": [
    {
     "data": {
<<<<<<< Updated upstream
      "image/png": "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",
      "text/plain": [
       "<PIL.Image.Image image mode=RGB size=400x200 at 0x7FA721D457F0>"
      ]
     },
     "execution_count": 164,
=======
      "image/png": "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",
      "text/plain": [
       "<PIL.Image.Image image mode=RGB size=400x200 at 0x7FA74B8F0A90>"
      ]
     },
     "execution_count": 10,
>>>>>>> Stashed changes
     "metadata": {},
     "output_type": "execute_result"
    }
   ],
   "source": [
    "image = word_cloud.to_image()\n",
    "image"
   ]
  },
  {
   "cell_type": "code",
   "execution_count": 165,
   "metadata": {},
   "outputs": [
    {
     "data": {
      "text/html": [
       "<div>\n",
       "<style scoped>\n",
       "    .dataframe tbody tr th:only-of-type {\n",
       "        vertical-align: middle;\n",
       "    }\n",
       "\n",
       "    .dataframe tbody tr th {\n",
       "        vertical-align: top;\n",
       "    }\n",
       "\n",
       "    .dataframe thead th {\n",
       "        text-align: right;\n",
       "    }\n",
       "</style>\n",
       "<table border=\"1\" class=\"dataframe\">\n",
       "  <thead>\n",
       "    <tr style=\"text-align: right;\">\n",
       "      <th></th>\n",
       "      <th>aaland</th>\n",
       "      <th>aaltonen</th>\n",
       "      <th>aapl</th>\n",
       "      <th>aaron</th>\n",
       "      <th>aava</th>\n",
       "      <th>aazhang</th>\n",
       "      <th>ab</th>\n",
       "      <th>abb</th>\n",
       "      <th>abbv</th>\n",
       "      <th>abc</th>\n",
       "      <th>...</th>\n",
       "      <th>zone</th>\n",
       "      <th>zoo</th>\n",
       "      <th>zp</th>\n",
       "      <th>zs</th>\n",
       "      <th>zsl</th>\n",
       "      <th>zte</th>\n",
       "      <th>zurich</th>\n",
       "      <th>zwe</th>\n",
       "      <th>zwhthsvfsf</th>\n",
       "      <th>zy</th>\n",
       "    </tr>\n",
       "  </thead>\n",
       "  <tbody>\n",
       "    <tr>\n",
       "      <th>0</th>\n",
       "      <td>0.0</td>\n",
       "      <td>0.0</td>\n",
       "      <td>0.0</td>\n",
       "      <td>0.0</td>\n",
       "      <td>0.0</td>\n",
       "      <td>0.0</td>\n",
       "      <td>0.0</td>\n",
       "      <td>0.0</td>\n",
       "      <td>0.0</td>\n",
       "      <td>0.0</td>\n",
       "      <td>...</td>\n",
       "      <td>0.0</td>\n",
       "      <td>0.0</td>\n",
       "      <td>0.0</td>\n",
       "      <td>0.0</td>\n",
       "      <td>0.0</td>\n",
       "      <td>0.0</td>\n",
       "      <td>0.0</td>\n",
       "      <td>0.0</td>\n",
       "      <td>0.0</td>\n",
       "      <td>0.0</td>\n",
       "    </tr>\n",
       "    <tr>\n",
       "      <th>1</th>\n",
       "      <td>0.0</td>\n",
       "      <td>0.0</td>\n",
       "      <td>0.0</td>\n",
       "      <td>0.0</td>\n",
       "      <td>0.0</td>\n",
       "      <td>0.0</td>\n",
       "      <td>0.0</td>\n",
       "      <td>0.0</td>\n",
       "      <td>0.0</td>\n",
       "      <td>0.0</td>\n",
       "      <td>...</td>\n",
       "      <td>0.0</td>\n",
       "      <td>0.0</td>\n",
       "      <td>0.0</td>\n",
       "      <td>0.0</td>\n",
       "      <td>0.0</td>\n",
       "      <td>0.0</td>\n",
       "      <td>0.0</td>\n",
       "      <td>0.0</td>\n",
       "      <td>0.0</td>\n",
       "      <td>0.0</td>\n",
       "    </tr>\n",
       "    <tr>\n",
       "      <th>2</th>\n",
       "      <td>0.0</td>\n",
       "      <td>0.0</td>\n",
       "      <td>0.0</td>\n",
       "      <td>0.0</td>\n",
       "      <td>0.0</td>\n",
       "      <td>0.0</td>\n",
       "      <td>0.0</td>\n",
       "      <td>0.0</td>\n",
       "      <td>0.0</td>\n",
       "      <td>0.0</td>\n",
       "      <td>...</td>\n",
       "      <td>0.0</td>\n",
       "      <td>0.0</td>\n",
       "      <td>0.0</td>\n",
       "      <td>0.0</td>\n",
       "      <td>0.0</td>\n",
       "      <td>0.0</td>\n",
       "      <td>0.0</td>\n",
       "      <td>0.0</td>\n",
       "      <td>0.0</td>\n",
       "      <td>0.0</td>\n",
       "    </tr>\n",
       "    <tr>\n",
       "      <th>3</th>\n",
       "      <td>0.0</td>\n",
       "      <td>0.0</td>\n",
       "      <td>0.0</td>\n",
       "      <td>0.0</td>\n",
       "      <td>0.0</td>\n",
       "      <td>0.0</td>\n",
       "      <td>0.0</td>\n",
       "      <td>0.0</td>\n",
       "      <td>0.0</td>\n",
       "      <td>0.0</td>\n",
       "      <td>...</td>\n",
       "      <td>0.0</td>\n",
       "      <td>0.0</td>\n",
       "      <td>0.0</td>\n",
       "      <td>0.0</td>\n",
       "      <td>0.0</td>\n",
       "      <td>0.0</td>\n",
       "      <td>0.0</td>\n",
       "      <td>0.0</td>\n",
       "      <td>0.0</td>\n",
       "      <td>0.0</td>\n",
       "    </tr>\n",
       "    <tr>\n",
       "      <th>4</th>\n",
       "      <td>0.0</td>\n",
       "      <td>0.0</td>\n",
       "      <td>0.0</td>\n",
       "      <td>0.0</td>\n",
       "      <td>0.0</td>\n",
       "      <td>0.0</td>\n",
       "      <td>0.0</td>\n",
       "      <td>0.0</td>\n",
       "      <td>0.0</td>\n",
       "      <td>0.0</td>\n",
       "      <td>...</td>\n",
       "      <td>0.0</td>\n",
       "      <td>0.0</td>\n",
       "      <td>0.0</td>\n",
       "      <td>0.0</td>\n",
       "      <td>0.0</td>\n",
       "      <td>0.0</td>\n",
       "      <td>0.0</td>\n",
       "      <td>0.0</td>\n",
       "      <td>0.0</td>\n",
       "      <td>0.0</td>\n",
       "    </tr>\n",
       "  </tbody>\n",
       "</table>\n",
       "<p>5 rows × 8920 columns</p>\n",
       "</div>"
      ],
      "text/plain": [
       "   aaland  aaltonen  aapl  aaron  aava  aazhang   ab  abb  abbv  abc  ...  \\\n",
       "0     0.0       0.0   0.0    0.0   0.0      0.0  0.0  0.0   0.0  0.0  ...   \n",
       "1     0.0       0.0   0.0    0.0   0.0      0.0  0.0  0.0   0.0  0.0  ...   \n",
       "2     0.0       0.0   0.0    0.0   0.0      0.0  0.0  0.0   0.0  0.0  ...   \n",
       "3     0.0       0.0   0.0    0.0   0.0      0.0  0.0  0.0   0.0  0.0  ...   \n",
       "4     0.0       0.0   0.0    0.0   0.0      0.0  0.0  0.0   0.0  0.0  ...   \n",
       "\n",
       "   zone  zoo   zp   zs  zsl  zte  zurich  zwe  zwhthsvfsf   zy  \n",
       "0   0.0  0.0  0.0  0.0  0.0  0.0     0.0  0.0         0.0  0.0  \n",
       "1   0.0  0.0  0.0  0.0  0.0  0.0     0.0  0.0         0.0  0.0  \n",
       "2   0.0  0.0  0.0  0.0  0.0  0.0     0.0  0.0         0.0  0.0  \n",
       "3   0.0  0.0  0.0  0.0  0.0  0.0     0.0  0.0         0.0  0.0  \n",
       "4   0.0  0.0  0.0  0.0  0.0  0.0     0.0  0.0         0.0  0.0  \n",
       "\n",
       "[5 rows x 8920 columns]"
      ]
     },
     "execution_count": 165,
     "metadata": {},
     "output_type": "execute_result"
    }
   ],
   "source": [
    "# for tfidf vectorizer\n",
    "tfidf = TfidfVectorizer()\n",
    "transformed_data = tfidf.fit_transform(data['Sentence'])\n",
    "data_dtm = pd.DataFrame(transformed_data.toarray(), columns = tfidf.get_feature_names())\n",
    "data_dtm.head()"
   ]
  },
  {
   "cell_type": "code",
   "execution_count": 166,
   "metadata": {},
   "outputs": [
    {
<<<<<<< Updated upstream
     "data": {
      "text/plain": [
       "(4382, 8920)"
      ]
     },
     "execution_count": 166,
     "metadata": {},
     "output_type": "execute_result"
=======
     "name": "stdout",
     "output_type": "stream",
     "text": [
      "(4382, 8920)\n",
      "(4382, 2)\n"
     ]
>>>>>>> Stashed changes
    }
   ],
   "source": [
    "print(data_dtm.shape)\n",
    "print(data.shape)"
   ]
  },
  {
   "cell_type": "code",
   "execution_count": 167,
   "metadata": {},
   "outputs": [
    {
     "data": {
      "text/plain": [
       "(4382, 2)"
      ]
     },
     "execution_count": 167,
     "metadata": {},
     "output_type": "execute_result"
    }
   ],
   "source": [
    "data.shape"
   ]
  },
  {
   "cell_type": "code",
   "execution_count": 168,
   "metadata": {},
   "outputs": [
    {
     "data": {
      "text/plain": [
       "RangeIndex(start=0, stop=4382, step=1)"
      ]
     },
     "execution_count": 168,
     "metadata": {},
     "output_type": "execute_result"
    }
   ],
   "source": [
    "data.index"
   ]
  },
  {
   "cell_type": "code",
   "execution_count": 169,
   "metadata": {},
   "outputs": [
    {
     "data": {
      "text/html": [
       "<div>\n",
       "<style scoped>\n",
       "    .dataframe tbody tr th:only-of-type {\n",
       "        vertical-align: middle;\n",
       "    }\n",
       "\n",
       "    .dataframe tbody tr th {\n",
       "        vertical-align: top;\n",
       "    }\n",
       "\n",
       "    .dataframe thead th {\n",
       "        text-align: right;\n",
       "    }\n",
       "</style>\n",
       "<table border=\"1\" class=\"dataframe\">\n",
       "  <thead>\n",
       "    <tr style=\"text-align: right;\">\n",
       "      <th></th>\n",
       "      <th>aaland</th>\n",
       "      <th>aaltonen</th>\n",
       "      <th>aapl</th>\n",
       "      <th>aaron</th>\n",
       "      <th>aava</th>\n",
       "      <th>aazhang</th>\n",
       "      <th>ab</th>\n",
       "      <th>abb</th>\n",
       "      <th>abbv</th>\n",
       "      <th>abc</th>\n",
       "      <th>...</th>\n",
       "      <th>zoo</th>\n",
       "      <th>zp</th>\n",
       "      <th>zs</th>\n",
       "      <th>zsl</th>\n",
       "      <th>zte</th>\n",
       "      <th>zurich</th>\n",
       "      <th>zwe</th>\n",
       "      <th>zwhthsvfsf</th>\n",
       "      <th>zy</th>\n",
       "      <th>Sentiment</th>\n",
       "    </tr>\n",
       "  </thead>\n",
       "  <tbody>\n",
       "    <tr>\n",
       "      <th>0</th>\n",
       "      <td>0.0</td>\n",
       "      <td>0.0</td>\n",
       "      <td>0.0</td>\n",
       "      <td>0.0</td>\n",
       "      <td>0.0</td>\n",
       "      <td>0.0</td>\n",
       "      <td>0.0</td>\n",
       "      <td>0.0</td>\n",
       "      <td>0.0</td>\n",
       "      <td>0.0</td>\n",
       "      <td>...</td>\n",
       "      <td>0.0</td>\n",
       "      <td>0.0</td>\n",
       "      <td>0.0</td>\n",
       "      <td>0.0</td>\n",
       "      <td>0.0</td>\n",
       "      <td>0.0</td>\n",
       "      <td>0.0</td>\n",
       "      <td>0.0</td>\n",
       "      <td>0.0</td>\n",
       "      <td>neutral</td>\n",
       "    </tr>\n",
       "    <tr>\n",
       "      <th>1</th>\n",
       "      <td>0.0</td>\n",
       "      <td>0.0</td>\n",
       "      <td>0.0</td>\n",
       "      <td>0.0</td>\n",
       "      <td>0.0</td>\n",
       "      <td>0.0</td>\n",
       "      <td>0.0</td>\n",
       "      <td>0.0</td>\n",
       "      <td>0.0</td>\n",
       "      <td>0.0</td>\n",
       "      <td>...</td>\n",
       "      <td>0.0</td>\n",
       "      <td>0.0</td>\n",
       "      <td>0.0</td>\n",
       "      <td>0.0</td>\n",
       "      <td>0.0</td>\n",
       "      <td>0.0</td>\n",
       "      <td>0.0</td>\n",
       "      <td>0.0</td>\n",
       "      <td>0.0</td>\n",
       "      <td>neutral</td>\n",
       "    </tr>\n",
       "    <tr>\n",
       "      <th>2</th>\n",
       "      <td>0.0</td>\n",
       "      <td>0.0</td>\n",
       "      <td>0.0</td>\n",
       "      <td>0.0</td>\n",
       "      <td>0.0</td>\n",
       "      <td>0.0</td>\n",
       "      <td>0.0</td>\n",
       "      <td>0.0</td>\n",
       "      <td>0.0</td>\n",
       "      <td>0.0</td>\n",
       "      <td>...</td>\n",
       "      <td>0.0</td>\n",
       "      <td>0.0</td>\n",
       "      <td>0.0</td>\n",
       "      <td>0.0</td>\n",
       "      <td>0.0</td>\n",
       "      <td>0.0</td>\n",
       "      <td>0.0</td>\n",
       "      <td>0.0</td>\n",
       "      <td>0.0</td>\n",
       "      <td>positive</td>\n",
       "    </tr>\n",
       "    <tr>\n",
       "      <th>3</th>\n",
       "      <td>0.0</td>\n",
       "      <td>0.0</td>\n",
       "      <td>0.0</td>\n",
       "      <td>0.0</td>\n",
       "      <td>0.0</td>\n",
       "      <td>0.0</td>\n",
       "      <td>0.0</td>\n",
       "      <td>0.0</td>\n",
       "      <td>0.0</td>\n",
       "      <td>0.0</td>\n",
       "      <td>...</td>\n",
       "      <td>0.0</td>\n",
       "      <td>0.0</td>\n",
       "      <td>0.0</td>\n",
       "      <td>0.0</td>\n",
       "      <td>0.0</td>\n",
       "      <td>0.0</td>\n",
       "      <td>0.0</td>\n",
       "      <td>0.0</td>\n",
       "      <td>0.0</td>\n",
       "      <td>negative</td>\n",
       "    </tr>\n",
       "    <tr>\n",
       "      <th>4</th>\n",
       "      <td>0.0</td>\n",
       "      <td>0.0</td>\n",
       "      <td>0.0</td>\n",
       "      <td>0.0</td>\n",
       "      <td>0.0</td>\n",
       "      <td>0.0</td>\n",
       "      <td>0.0</td>\n",
       "      <td>0.0</td>\n",
       "      <td>0.0</td>\n",
       "      <td>0.0</td>\n",
       "      <td>...</td>\n",
       "      <td>0.0</td>\n",
       "      <td>0.0</td>\n",
       "      <td>0.0</td>\n",
       "      <td>0.0</td>\n",
       "      <td>0.0</td>\n",
       "      <td>0.0</td>\n",
       "      <td>0.0</td>\n",
       "      <td>0.0</td>\n",
       "      <td>0.0</td>\n",
       "      <td>negative</td>\n",
       "    </tr>\n",
       "    <tr>\n",
       "      <th>...</th>\n",
       "      <td>...</td>\n",
       "      <td>...</td>\n",
       "      <td>...</td>\n",
       "      <td>...</td>\n",
       "      <td>...</td>\n",
       "      <td>...</td>\n",
       "      <td>...</td>\n",
       "      <td>...</td>\n",
       "      <td>...</td>\n",
       "      <td>...</td>\n",
       "      <td>...</td>\n",
       "      <td>...</td>\n",
       "      <td>...</td>\n",
       "      <td>...</td>\n",
       "      <td>...</td>\n",
       "      <td>...</td>\n",
       "      <td>...</td>\n",
       "      <td>...</td>\n",
       "      <td>...</td>\n",
       "      <td>...</td>\n",
       "      <td>...</td>\n",
       "    </tr>\n",
       "    <tr>\n",
       "      <th>4377</th>\n",
       "      <td>0.0</td>\n",
       "      <td>0.0</td>\n",
       "      <td>0.0</td>\n",
       "      <td>0.0</td>\n",
       "      <td>0.0</td>\n",
       "      <td>0.0</td>\n",
       "      <td>0.0</td>\n",
       "      <td>0.0</td>\n",
       "      <td>0.0</td>\n",
       "      <td>0.0</td>\n",
       "      <td>...</td>\n",
       "      <td>0.0</td>\n",
       "      <td>0.0</td>\n",
       "      <td>0.0</td>\n",
       "      <td>0.0</td>\n",
       "      <td>0.0</td>\n",
       "      <td>0.0</td>\n",
       "      <td>0.0</td>\n",
       "      <td>0.0</td>\n",
       "      <td>0.0</td>\n",
       "      <td>neutral</td>\n",
       "    </tr>\n",
       "    <tr>\n",
       "      <th>4378</th>\n",
       "      <td>0.0</td>\n",
       "      <td>0.0</td>\n",
       "      <td>0.0</td>\n",
       "      <td>0.0</td>\n",
       "      <td>0.0</td>\n",
       "      <td>0.0</td>\n",
       "      <td>0.0</td>\n",
       "      <td>0.0</td>\n",
       "      <td>0.0</td>\n",
       "      <td>0.0</td>\n",
       "      <td>...</td>\n",
       "      <td>0.0</td>\n",
       "      <td>0.0</td>\n",
       "      <td>0.0</td>\n",
       "      <td>0.0</td>\n",
       "      <td>0.0</td>\n",
       "      <td>0.0</td>\n",
       "      <td>0.0</td>\n",
       "      <td>0.0</td>\n",
       "      <td>0.0</td>\n",
       "      <td>negative</td>\n",
       "    </tr>\n",
       "    <tr>\n",
       "      <th>4379</th>\n",
       "      <td>0.0</td>\n",
       "      <td>0.0</td>\n",
       "      <td>0.0</td>\n",
       "      <td>0.0</td>\n",
       "      <td>0.0</td>\n",
       "      <td>0.0</td>\n",
       "      <td>0.0</td>\n",
       "      <td>0.0</td>\n",
       "      <td>0.0</td>\n",
       "      <td>0.0</td>\n",
       "      <td>...</td>\n",
       "      <td>0.0</td>\n",
       "      <td>0.0</td>\n",
       "      <td>0.0</td>\n",
       "      <td>0.0</td>\n",
       "      <td>0.0</td>\n",
       "      <td>0.0</td>\n",
       "      <td>0.0</td>\n",
       "      <td>0.0</td>\n",
       "      <td>0.0</td>\n",
       "      <td>negative</td>\n",
       "    </tr>\n",
       "    <tr>\n",
       "      <th>4380</th>\n",
       "      <td>0.0</td>\n",
       "      <td>0.0</td>\n",
       "      <td>0.0</td>\n",
       "      <td>0.0</td>\n",
       "      <td>0.0</td>\n",
       "      <td>0.0</td>\n",
       "      <td>0.0</td>\n",
       "      <td>0.0</td>\n",
       "      <td>0.0</td>\n",
       "      <td>0.0</td>\n",
       "      <td>...</td>\n",
       "      <td>0.0</td>\n",
       "      <td>0.0</td>\n",
       "      <td>0.0</td>\n",
       "      <td>0.0</td>\n",
       "      <td>0.0</td>\n",
       "      <td>0.0</td>\n",
       "      <td>0.0</td>\n",
       "      <td>0.0</td>\n",
       "      <td>0.0</td>\n",
       "      <td>neutral</td>\n",
       "    </tr>\n",
       "    <tr>\n",
       "      <th>4381</th>\n",
       "      <td>0.0</td>\n",
       "      <td>0.0</td>\n",
       "      <td>0.0</td>\n",
       "      <td>0.0</td>\n",
       "      <td>0.0</td>\n",
       "      <td>0.0</td>\n",
       "      <td>0.0</td>\n",
       "      <td>0.0</td>\n",
       "      <td>0.0</td>\n",
       "      <td>0.0</td>\n",
       "      <td>...</td>\n",
       "      <td>0.0</td>\n",
       "      <td>0.0</td>\n",
       "      <td>0.0</td>\n",
       "      <td>0.0</td>\n",
       "      <td>0.0</td>\n",
       "      <td>0.0</td>\n",
       "      <td>0.0</td>\n",
       "      <td>0.0</td>\n",
       "      <td>0.0</td>\n",
       "      <td>positive</td>\n",
       "    </tr>\n",
       "  </tbody>\n",
       "</table>\n",
       "<p>4382 rows × 8921 columns</p>\n",
       "</div>"
      ],
      "text/plain": [
       "      aaland  aaltonen  aapl  aaron  aava  aazhang   ab  abb  abbv  abc  ...  \\\n",
       "0        0.0       0.0   0.0    0.0   0.0      0.0  0.0  0.0   0.0  0.0  ...   \n",
       "1        0.0       0.0   0.0    0.0   0.0      0.0  0.0  0.0   0.0  0.0  ...   \n",
       "2        0.0       0.0   0.0    0.0   0.0      0.0  0.0  0.0   0.0  0.0  ...   \n",
       "3        0.0       0.0   0.0    0.0   0.0      0.0  0.0  0.0   0.0  0.0  ...   \n",
       "4        0.0       0.0   0.0    0.0   0.0      0.0  0.0  0.0   0.0  0.0  ...   \n",
       "...      ...       ...   ...    ...   ...      ...  ...  ...   ...  ...  ...   \n",
       "4377     0.0       0.0   0.0    0.0   0.0      0.0  0.0  0.0   0.0  0.0  ...   \n",
       "4378     0.0       0.0   0.0    0.0   0.0      0.0  0.0  0.0   0.0  0.0  ...   \n",
       "4379     0.0       0.0   0.0    0.0   0.0      0.0  0.0  0.0   0.0  0.0  ...   \n",
       "4380     0.0       0.0   0.0    0.0   0.0      0.0  0.0  0.0   0.0  0.0  ...   \n",
       "4381     0.0       0.0   0.0    0.0   0.0      0.0  0.0  0.0   0.0  0.0  ...   \n",
       "\n",
       "      zoo   zp   zs  zsl  zte  zurich  zwe  zwhthsvfsf   zy  Sentiment  \n",
       "0     0.0  0.0  0.0  0.0  0.0     0.0  0.0         0.0  0.0    neutral  \n",
       "1     0.0  0.0  0.0  0.0  0.0     0.0  0.0         0.0  0.0    neutral  \n",
       "2     0.0  0.0  0.0  0.0  0.0     0.0  0.0         0.0  0.0   positive  \n",
       "3     0.0  0.0  0.0  0.0  0.0     0.0  0.0         0.0  0.0   negative  \n",
       "4     0.0  0.0  0.0  0.0  0.0     0.0  0.0         0.0  0.0   negative  \n",
       "...   ...  ...  ...  ...  ...     ...  ...         ...  ...        ...  \n",
       "4377  0.0  0.0  0.0  0.0  0.0     0.0  0.0         0.0  0.0    neutral  \n",
       "4378  0.0  0.0  0.0  0.0  0.0     0.0  0.0         0.0  0.0   negative  \n",
       "4379  0.0  0.0  0.0  0.0  0.0     0.0  0.0         0.0  0.0   negative  \n",
       "4380  0.0  0.0  0.0  0.0  0.0     0.0  0.0         0.0  0.0    neutral  \n",
       "4381  0.0  0.0  0.0  0.0  0.0     0.0  0.0         0.0  0.0   positive  \n",
       "\n",
       "[4382 rows x 8921 columns]"
      ]
     },
     "execution_count": 169,
     "metadata": {},
     "output_type": "execute_result"
    }
   ],
   "source": [
    "data_dtm['Sentiment'] = data['Sentiment']\n",
    "data_dtm"
   ]
  },
  {
   "cell_type": "code",
   "execution_count": 170,
   "metadata": {},
   "outputs": [],
   "source": [
    "# # Convert a collection of raw documents to a matrix of TF-IDF features.\n",
    "# # TODO : try different hyperparameters for the function below\n",
    "# tfidf = TfidfVectorizer(strip_accents=\"ascii\", lowercase=True,ngram_range=(1,1),max_features=1000)\n",
    "# tfTrain = tfidf.fit_transform(X_train) \n",
    "# tfTest = tfidf.transform(X_test)"
   ]
  },
  {
   "cell_type": "code",
   "execution_count": 171,
   "metadata": {},
   "outputs": [],
   "source": [
    "# X_train, X_test, y_train, y_test = train_test_split(data[\"Sentence\"].values, data[\"Sentiment\"].values, shuffle=True,test_size=0.1)"
   ]
  },
  {
   "cell_type": "code",
   "execution_count": 172,
   "metadata": {},
   "outputs": [
    {
     "data": {
      "text/plain": [
       "['aaland',\n",
       " 'aaltonen',\n",
       " 'aapl',\n",
       " 'aaron',\n",
       " 'aava',\n",
       " 'aazhang',\n",
       " 'ab',\n",
       " 'abb',\n",
       " 'abbv',\n",
       " 'abc']"
      ]
     },
     "execution_count": 172,
     "metadata": {},
     "output_type": "execute_result"
    }
   ],
   "source": [
    "# some of the words\n",
    "tfidf.get_feature_names()[:10]"
   ]
  },
  {
   "cell_type": "code",
   "execution_count": 173,
   "metadata": {},
   "outputs": [
    {
     "data": {
      "text/html": [
       "<div>\n",
       "<style scoped>\n",
       "    .dataframe tbody tr th:only-of-type {\n",
       "        vertical-align: middle;\n",
       "    }\n",
       "\n",
       "    .dataframe tbody tr th {\n",
       "        vertical-align: top;\n",
       "    }\n",
       "\n",
       "    .dataframe thead th {\n",
       "        text-align: right;\n",
       "    }\n",
       "</style>\n",
       "<table border=\"1\" class=\"dataframe\">\n",
       "  <thead>\n",
       "    <tr style=\"text-align: right;\">\n",
       "      <th></th>\n",
       "      <th>aaland</th>\n",
       "      <th>aaltonen</th>\n",
       "      <th>aapl</th>\n",
       "      <th>aaron</th>\n",
       "      <th>aava</th>\n",
       "      <th>aazhang</th>\n",
       "      <th>ab</th>\n",
       "      <th>abb</th>\n",
       "      <th>abbv</th>\n",
       "      <th>abc</th>\n",
       "      <th>...</th>\n",
       "      <th>zoo</th>\n",
       "      <th>zp</th>\n",
       "      <th>zs</th>\n",
       "      <th>zsl</th>\n",
       "      <th>zte</th>\n",
       "      <th>zurich</th>\n",
       "      <th>zwe</th>\n",
       "      <th>zwhthsvfsf</th>\n",
       "      <th>zy</th>\n",
       "      <th>Sentiment</th>\n",
       "    </tr>\n",
       "  </thead>\n",
       "  <tbody>\n",
       "    <tr>\n",
       "      <th>0</th>\n",
       "      <td>0.0</td>\n",
       "      <td>0.0</td>\n",
       "      <td>0.0</td>\n",
       "      <td>0.0</td>\n",
       "      <td>0.0</td>\n",
       "      <td>0.0</td>\n",
       "      <td>0.0</td>\n",
       "      <td>0.0</td>\n",
       "      <td>0.0</td>\n",
       "      <td>0.0</td>\n",
       "      <td>...</td>\n",
       "      <td>0.0</td>\n",
       "      <td>0.0</td>\n",
       "      <td>0.0</td>\n",
       "      <td>0.0</td>\n",
       "      <td>0.0</td>\n",
       "      <td>0.0</td>\n",
       "      <td>0.0</td>\n",
       "      <td>0.0</td>\n",
       "      <td>0.0</td>\n",
       "      <td>1</td>\n",
       "    </tr>\n",
       "    <tr>\n",
       "      <th>1</th>\n",
       "      <td>0.0</td>\n",
       "      <td>0.0</td>\n",
       "      <td>0.0</td>\n",
       "      <td>0.0</td>\n",
       "      <td>0.0</td>\n",
       "      <td>0.0</td>\n",
       "      <td>0.0</td>\n",
       "      <td>0.0</td>\n",
       "      <td>0.0</td>\n",
       "      <td>0.0</td>\n",
       "      <td>...</td>\n",
       "      <td>0.0</td>\n",
       "      <td>0.0</td>\n",
       "      <td>0.0</td>\n",
       "      <td>0.0</td>\n",
       "      <td>0.0</td>\n",
       "      <td>0.0</td>\n",
       "      <td>0.0</td>\n",
       "      <td>0.0</td>\n",
       "      <td>0.0</td>\n",
       "      <td>1</td>\n",
       "    </tr>\n",
       "    <tr>\n",
       "      <th>2</th>\n",
       "      <td>0.0</td>\n",
       "      <td>0.0</td>\n",
       "      <td>0.0</td>\n",
       "      <td>0.0</td>\n",
       "      <td>0.0</td>\n",
       "      <td>0.0</td>\n",
       "      <td>0.0</td>\n",
       "      <td>0.0</td>\n",
       "      <td>0.0</td>\n",
       "      <td>0.0</td>\n",
       "      <td>...</td>\n",
       "      <td>0.0</td>\n",
       "      <td>0.0</td>\n",
       "      <td>0.0</td>\n",
       "      <td>0.0</td>\n",
       "      <td>0.0</td>\n",
       "      <td>0.0</td>\n",
       "      <td>0.0</td>\n",
       "      <td>0.0</td>\n",
       "      <td>0.0</td>\n",
       "      <td>2</td>\n",
       "    </tr>\n",
       "    <tr>\n",
       "      <th>3</th>\n",
       "      <td>0.0</td>\n",
       "      <td>0.0</td>\n",
       "      <td>0.0</td>\n",
       "      <td>0.0</td>\n",
       "      <td>0.0</td>\n",
       "      <td>0.0</td>\n",
       "      <td>0.0</td>\n",
       "      <td>0.0</td>\n",
       "      <td>0.0</td>\n",
       "      <td>0.0</td>\n",
       "      <td>...</td>\n",
       "      <td>0.0</td>\n",
       "      <td>0.0</td>\n",
       "      <td>0.0</td>\n",
       "      <td>0.0</td>\n",
       "      <td>0.0</td>\n",
       "      <td>0.0</td>\n",
       "      <td>0.0</td>\n",
       "      <td>0.0</td>\n",
       "      <td>0.0</td>\n",
       "      <td>0</td>\n",
       "    </tr>\n",
       "    <tr>\n",
       "      <th>4</th>\n",
       "      <td>0.0</td>\n",
       "      <td>0.0</td>\n",
       "      <td>0.0</td>\n",
       "      <td>0.0</td>\n",
       "      <td>0.0</td>\n",
       "      <td>0.0</td>\n",
       "      <td>0.0</td>\n",
       "      <td>0.0</td>\n",
       "      <td>0.0</td>\n",
       "      <td>0.0</td>\n",
       "      <td>...</td>\n",
       "      <td>0.0</td>\n",
       "      <td>0.0</td>\n",
       "      <td>0.0</td>\n",
       "      <td>0.0</td>\n",
       "      <td>0.0</td>\n",
       "      <td>0.0</td>\n",
       "      <td>0.0</td>\n",
       "      <td>0.0</td>\n",
       "      <td>0.0</td>\n",
       "      <td>0</td>\n",
       "    </tr>\n",
       "  </tbody>\n",
       "</table>\n",
       "<p>5 rows × 8921 columns</p>\n",
       "</div>"
      ],
      "text/plain": [
       "   aaland  aaltonen  aapl  aaron  aava  aazhang   ab  abb  abbv  abc  ...  \\\n",
       "0     0.0       0.0   0.0    0.0   0.0      0.0  0.0  0.0   0.0  0.0  ...   \n",
       "1     0.0       0.0   0.0    0.0   0.0      0.0  0.0  0.0   0.0  0.0  ...   \n",
       "2     0.0       0.0   0.0    0.0   0.0      0.0  0.0  0.0   0.0  0.0  ...   \n",
       "3     0.0       0.0   0.0    0.0   0.0      0.0  0.0  0.0   0.0  0.0  ...   \n",
       "4     0.0       0.0   0.0    0.0   0.0      0.0  0.0  0.0   0.0  0.0  ...   \n",
       "\n",
       "   zoo   zp   zs  zsl  zte  zurich  zwe  zwhthsvfsf   zy  Sentiment  \n",
       "0  0.0  0.0  0.0  0.0  0.0     0.0  0.0         0.0  0.0          1  \n",
       "1  0.0  0.0  0.0  0.0  0.0     0.0  0.0         0.0  0.0          1  \n",
       "2  0.0  0.0  0.0  0.0  0.0     0.0  0.0         0.0  0.0          2  \n",
       "3  0.0  0.0  0.0  0.0  0.0     0.0  0.0         0.0  0.0          0  \n",
       "4  0.0  0.0  0.0  0.0  0.0     0.0  0.0         0.0  0.0          0  \n",
       "\n",
       "[5 rows x 8921 columns]"
      ]
     },
     "execution_count": 173,
     "metadata": {},
     "output_type": "execute_result"
    }
   ],
   "source": [
    "le = LabelEncoder()\n",
    "data_dtm['Sentiment']=le.fit_transform(data_dtm['Sentiment'])\n",
    "data_dtm.head()"
   ]
  },
  {
   "cell_type": "code",
   "execution_count": 174,
   "metadata": {},
   "outputs": [
    {
     "data": {
      "text/plain": [
       "{'negative': 0, 'neutral': 1, 'positive': 2}"
      ]
     },
     "execution_count": 174,
     "metadata": {},
     "output_type": "execute_result"
    }
   ],
   "source": [
    "le_name_mapping = dict(zip(le.classes_, le.transform(le.classes_)))\n",
    "le_name_mapping"
   ]
  },
  {
   "cell_type": "code",
   "execution_count": 175,
   "metadata": {},
   "outputs": [],
   "source": [
    "# X_train, X_test, y_train, y_test = train_test_split(\n",
    "#     data[\"Sentence\"].values, data[\"Sentiment\"].values, shuffle=True,test_size=0.1\n",
    "#     )"
   ]
  },
  {
   "cell_type": "code",
   "execution_count": 176,
   "metadata": {},
   "outputs": [],
   "source": [
    "X_train, X_test, y_train, y_test = train_test_split(data_dtm.drop('Sentiment',axis=1),data_dtm['Sentiment'],test_size=0.1,stratify=data_dtm['Sentiment'])"
   ]
  },
  {
   "cell_type": "code",
   "execution_count": 177,
   "metadata": {},
   "outputs": [
    {
     "data": {
      "text/html": [
       "<div>\n",
       "<style scoped>\n",
       "    .dataframe tbody tr th:only-of-type {\n",
       "        vertical-align: middle;\n",
       "    }\n",
       "\n",
       "    .dataframe tbody tr th {\n",
       "        vertical-align: top;\n",
       "    }\n",
       "\n",
       "    .dataframe thead th {\n",
       "        text-align: right;\n",
       "    }\n",
       "</style>\n",
       "<table border=\"1\" class=\"dataframe\">\n",
       "  <thead>\n",
       "    <tr style=\"text-align: right;\">\n",
       "      <th></th>\n",
       "      <th>aaland</th>\n",
       "      <th>aaltonen</th>\n",
       "      <th>aapl</th>\n",
       "      <th>aaron</th>\n",
       "      <th>aava</th>\n",
       "      <th>aazhang</th>\n",
       "      <th>ab</th>\n",
       "      <th>abb</th>\n",
       "      <th>abbv</th>\n",
       "      <th>abc</th>\n",
       "      <th>...</th>\n",
       "      <th>zone</th>\n",
       "      <th>zoo</th>\n",
       "      <th>zp</th>\n",
       "      <th>zs</th>\n",
       "      <th>zsl</th>\n",
       "      <th>zte</th>\n",
       "      <th>zurich</th>\n",
       "      <th>zwe</th>\n",
       "      <th>zwhthsvfsf</th>\n",
       "      <th>zy</th>\n",
       "    </tr>\n",
       "  </thead>\n",
       "  <tbody>\n",
       "    <tr>\n",
       "      <th>2577</th>\n",
       "      <td>0.0</td>\n",
       "      <td>0.0</td>\n",
       "      <td>0.0</td>\n",
       "      <td>0.0</td>\n",
       "      <td>0.0</td>\n",
       "      <td>0.0</td>\n",
       "      <td>0.0</td>\n",
       "      <td>0.0</td>\n",
       "      <td>0.0</td>\n",
       "      <td>0.0</td>\n",
       "      <td>...</td>\n",
       "      <td>0.0</td>\n",
       "      <td>0.0</td>\n",
       "      <td>0.0</td>\n",
       "      <td>0.0</td>\n",
       "      <td>0.0</td>\n",
       "      <td>0.0</td>\n",
       "      <td>0.0</td>\n",
       "      <td>0.0</td>\n",
       "      <td>0.0</td>\n",
       "      <td>0.0</td>\n",
       "    </tr>\n",
       "    <tr>\n",
       "      <th>4365</th>\n",
       "      <td>0.0</td>\n",
       "      <td>0.0</td>\n",
       "      <td>0.0</td>\n",
       "      <td>0.0</td>\n",
       "      <td>0.0</td>\n",
       "      <td>0.0</td>\n",
       "      <td>0.0</td>\n",
       "      <td>0.0</td>\n",
       "      <td>0.0</td>\n",
       "      <td>0.0</td>\n",
       "      <td>...</td>\n",
       "      <td>0.0</td>\n",
       "      <td>0.0</td>\n",
       "      <td>0.0</td>\n",
       "      <td>0.0</td>\n",
       "      <td>0.0</td>\n",
       "      <td>0.0</td>\n",
       "      <td>0.0</td>\n",
       "      <td>0.0</td>\n",
       "      <td>0.0</td>\n",
       "      <td>0.0</td>\n",
       "    </tr>\n",
       "    <tr>\n",
       "      <th>3117</th>\n",
       "      <td>0.0</td>\n",
       "      <td>0.0</td>\n",
       "      <td>0.0</td>\n",
       "      <td>0.0</td>\n",
       "      <td>0.0</td>\n",
       "      <td>0.0</td>\n",
       "      <td>0.0</td>\n",
       "      <td>0.0</td>\n",
       "      <td>0.0</td>\n",
       "      <td>0.0</td>\n",
       "      <td>...</td>\n",
       "      <td>0.0</td>\n",
       "      <td>0.0</td>\n",
       "      <td>0.0</td>\n",
       "      <td>0.0</td>\n",
       "      <td>0.0</td>\n",
       "      <td>0.0</td>\n",
       "      <td>0.0</td>\n",
       "      <td>0.0</td>\n",
       "      <td>0.0</td>\n",
       "      <td>0.0</td>\n",
       "    </tr>\n",
       "    <tr>\n",
       "      <th>1205</th>\n",
       "      <td>0.0</td>\n",
       "      <td>0.0</td>\n",
       "      <td>0.0</td>\n",
       "      <td>0.0</td>\n",
       "      <td>0.0</td>\n",
       "      <td>0.0</td>\n",
       "      <td>0.0</td>\n",
       "      <td>0.0</td>\n",
       "      <td>0.0</td>\n",
       "      <td>0.0</td>\n",
       "      <td>...</td>\n",
       "      <td>0.0</td>\n",
       "      <td>0.0</td>\n",
       "      <td>0.0</td>\n",
       "      <td>0.0</td>\n",
       "      <td>0.0</td>\n",
       "      <td>0.0</td>\n",
       "      <td>0.0</td>\n",
       "      <td>0.0</td>\n",
       "      <td>0.0</td>\n",
       "      <td>0.0</td>\n",
       "    </tr>\n",
       "    <tr>\n",
       "      <th>1626</th>\n",
       "      <td>0.0</td>\n",
       "      <td>0.0</td>\n",
       "      <td>0.0</td>\n",
       "      <td>0.0</td>\n",
       "      <td>0.0</td>\n",
       "      <td>0.0</td>\n",
       "      <td>0.0</td>\n",
       "      <td>0.0</td>\n",
       "      <td>0.0</td>\n",
       "      <td>0.0</td>\n",
       "      <td>...</td>\n",
       "      <td>0.0</td>\n",
       "      <td>0.0</td>\n",
       "      <td>0.0</td>\n",
       "      <td>0.0</td>\n",
       "      <td>0.0</td>\n",
       "      <td>0.0</td>\n",
       "      <td>0.0</td>\n",
       "      <td>0.0</td>\n",
       "      <td>0.0</td>\n",
       "      <td>0.0</td>\n",
       "    </tr>\n",
       "  </tbody>\n",
       "</table>\n",
       "<p>5 rows × 8920 columns</p>\n",
       "</div>"
      ],
      "text/plain": [
       "      aaland  aaltonen  aapl  aaron  aava  aazhang   ab  abb  abbv  abc  ...  \\\n",
       "2577     0.0       0.0   0.0    0.0   0.0      0.0  0.0  0.0   0.0  0.0  ...   \n",
       "4365     0.0       0.0   0.0    0.0   0.0      0.0  0.0  0.0   0.0  0.0  ...   \n",
       "3117     0.0       0.0   0.0    0.0   0.0      0.0  0.0  0.0   0.0  0.0  ...   \n",
       "1205     0.0       0.0   0.0    0.0   0.0      0.0  0.0  0.0   0.0  0.0  ...   \n",
       "1626     0.0       0.0   0.0    0.0   0.0      0.0  0.0  0.0   0.0  0.0  ...   \n",
       "\n",
       "      zone  zoo   zp   zs  zsl  zte  zurich  zwe  zwhthsvfsf   zy  \n",
       "2577   0.0  0.0  0.0  0.0  0.0  0.0     0.0  0.0         0.0  0.0  \n",
       "4365   0.0  0.0  0.0  0.0  0.0  0.0     0.0  0.0         0.0  0.0  \n",
       "3117   0.0  0.0  0.0  0.0  0.0  0.0     0.0  0.0         0.0  0.0  \n",
       "1205   0.0  0.0  0.0  0.0  0.0  0.0     0.0  0.0         0.0  0.0  \n",
       "1626   0.0  0.0  0.0  0.0  0.0  0.0     0.0  0.0         0.0  0.0  \n",
       "\n",
       "[5 rows x 8920 columns]"
      ]
     },
     "execution_count": 177,
     "metadata": {},
     "output_type": "execute_result"
    }
   ],
   "source": [
    "X_train.head()"
   ]
  },
  {
   "cell_type": "code",
   "execution_count": 178,
   "metadata": {},
   "outputs": [
    {
     "data": {
      "text/html": [
       "<div>\n",
       "<style scoped>\n",
       "    .dataframe tbody tr th:only-of-type {\n",
       "        vertical-align: middle;\n",
       "    }\n",
       "\n",
       "    .dataframe tbody tr th {\n",
       "        vertical-align: top;\n",
       "    }\n",
       "\n",
       "    .dataframe thead th {\n",
       "        text-align: right;\n",
       "    }\n",
       "</style>\n",
       "<table border=\"1\" class=\"dataframe\">\n",
       "  <thead>\n",
       "    <tr style=\"text-align: right;\">\n",
       "      <th></th>\n",
       "      <th>aaland</th>\n",
       "      <th>aaltonen</th>\n",
       "      <th>aapl</th>\n",
       "      <th>aaron</th>\n",
       "      <th>aava</th>\n",
       "      <th>aazhang</th>\n",
       "      <th>ab</th>\n",
       "      <th>abb</th>\n",
       "      <th>abbv</th>\n",
       "      <th>abc</th>\n",
       "      <th>...</th>\n",
       "      <th>zone</th>\n",
       "      <th>zoo</th>\n",
       "      <th>zp</th>\n",
       "      <th>zs</th>\n",
       "      <th>zsl</th>\n",
       "      <th>zte</th>\n",
       "      <th>zurich</th>\n",
       "      <th>zwe</th>\n",
       "      <th>zwhthsvfsf</th>\n",
       "      <th>zy</th>\n",
       "    </tr>\n",
       "  </thead>\n",
       "  <tbody>\n",
       "    <tr>\n",
       "      <th>954</th>\n",
       "      <td>0.0</td>\n",
       "      <td>0.0</td>\n",
       "      <td>0.0</td>\n",
       "      <td>0.0</td>\n",
       "      <td>0.0</td>\n",
       "      <td>0.0</td>\n",
       "      <td>0.0</td>\n",
       "      <td>0.0</td>\n",
       "      <td>0.0</td>\n",
       "      <td>0.0</td>\n",
       "      <td>...</td>\n",
       "      <td>0.0</td>\n",
       "      <td>0.0</td>\n",
       "      <td>0.0</td>\n",
       "      <td>0.0</td>\n",
       "      <td>0.0</td>\n",
       "      <td>0.0</td>\n",
       "      <td>0.0</td>\n",
       "      <td>0.0</td>\n",
       "      <td>0.0</td>\n",
       "      <td>0.0</td>\n",
       "    </tr>\n",
       "    <tr>\n",
       "      <th>32</th>\n",
       "      <td>0.0</td>\n",
       "      <td>0.0</td>\n",
       "      <td>0.0</td>\n",
       "      <td>0.0</td>\n",
       "      <td>0.0</td>\n",
       "      <td>0.0</td>\n",
       "      <td>0.0</td>\n",
       "      <td>0.0</td>\n",
       "      <td>0.0</td>\n",
       "      <td>0.0</td>\n",
       "      <td>...</td>\n",
       "      <td>0.0</td>\n",
       "      <td>0.0</td>\n",
       "      <td>0.0</td>\n",
       "      <td>0.0</td>\n",
       "      <td>0.0</td>\n",
       "      <td>0.0</td>\n",
       "      <td>0.0</td>\n",
       "      <td>0.0</td>\n",
       "      <td>0.0</td>\n",
       "      <td>0.0</td>\n",
       "    </tr>\n",
       "    <tr>\n",
       "      <th>1273</th>\n",
       "      <td>0.0</td>\n",
       "      <td>0.0</td>\n",
       "      <td>0.0</td>\n",
       "      <td>0.0</td>\n",
       "      <td>0.0</td>\n",
       "      <td>0.0</td>\n",
       "      <td>0.0</td>\n",
       "      <td>0.0</td>\n",
       "      <td>0.0</td>\n",
       "      <td>0.0</td>\n",
       "      <td>...</td>\n",
       "      <td>0.0</td>\n",
       "      <td>0.0</td>\n",
       "      <td>0.0</td>\n",
       "      <td>0.0</td>\n",
       "      <td>0.0</td>\n",
       "      <td>0.0</td>\n",
       "      <td>0.0</td>\n",
       "      <td>0.0</td>\n",
       "      <td>0.0</td>\n",
       "      <td>0.0</td>\n",
       "    </tr>\n",
       "    <tr>\n",
       "      <th>2362</th>\n",
       "      <td>0.0</td>\n",
       "      <td>0.0</td>\n",
       "      <td>0.0</td>\n",
       "      <td>0.0</td>\n",
       "      <td>0.0</td>\n",
       "      <td>0.0</td>\n",
       "      <td>0.0</td>\n",
       "      <td>0.0</td>\n",
       "      <td>0.0</td>\n",
       "      <td>0.0</td>\n",
       "      <td>...</td>\n",
       "      <td>0.0</td>\n",
       "      <td>0.0</td>\n",
       "      <td>0.0</td>\n",
       "      <td>0.0</td>\n",
       "      <td>0.0</td>\n",
       "      <td>0.0</td>\n",
       "      <td>0.0</td>\n",
       "      <td>0.0</td>\n",
       "      <td>0.0</td>\n",
       "      <td>0.0</td>\n",
       "    </tr>\n",
       "    <tr>\n",
       "      <th>3296</th>\n",
       "      <td>0.0</td>\n",
       "      <td>0.0</td>\n",
       "      <td>0.0</td>\n",
       "      <td>0.0</td>\n",
       "      <td>0.0</td>\n",
       "      <td>0.0</td>\n",
       "      <td>0.0</td>\n",
       "      <td>0.0</td>\n",
       "      <td>0.0</td>\n",
       "      <td>0.0</td>\n",
       "      <td>...</td>\n",
       "      <td>0.0</td>\n",
       "      <td>0.0</td>\n",
       "      <td>0.0</td>\n",
       "      <td>0.0</td>\n",
       "      <td>0.0</td>\n",
       "      <td>0.0</td>\n",
       "      <td>0.0</td>\n",
       "      <td>0.0</td>\n",
       "      <td>0.0</td>\n",
       "      <td>0.0</td>\n",
       "    </tr>\n",
       "  </tbody>\n",
       "</table>\n",
       "<p>5 rows × 8920 columns</p>\n",
       "</div>"
      ],
      "text/plain": [
       "      aaland  aaltonen  aapl  aaron  aava  aazhang   ab  abb  abbv  abc  ...  \\\n",
       "954      0.0       0.0   0.0    0.0   0.0      0.0  0.0  0.0   0.0  0.0  ...   \n",
       "32       0.0       0.0   0.0    0.0   0.0      0.0  0.0  0.0   0.0  0.0  ...   \n",
       "1273     0.0       0.0   0.0    0.0   0.0      0.0  0.0  0.0   0.0  0.0  ...   \n",
       "2362     0.0       0.0   0.0    0.0   0.0      0.0  0.0  0.0   0.0  0.0  ...   \n",
       "3296     0.0       0.0   0.0    0.0   0.0      0.0  0.0  0.0   0.0  0.0  ...   \n",
       "\n",
       "      zone  zoo   zp   zs  zsl  zte  zurich  zwe  zwhthsvfsf   zy  \n",
       "954    0.0  0.0  0.0  0.0  0.0  0.0     0.0  0.0         0.0  0.0  \n",
       "32     0.0  0.0  0.0  0.0  0.0  0.0     0.0  0.0         0.0  0.0  \n",
       "1273   0.0  0.0  0.0  0.0  0.0  0.0     0.0  0.0         0.0  0.0  \n",
       "2362   0.0  0.0  0.0  0.0  0.0  0.0     0.0  0.0         0.0  0.0  \n",
       "3296   0.0  0.0  0.0  0.0  0.0  0.0     0.0  0.0         0.0  0.0  \n",
       "\n",
       "[5 rows x 8920 columns]"
      ]
     },
     "execution_count": 178,
     "metadata": {},
     "output_type": "execute_result"
    }
   ],
   "source": [
    "X_test.head()"
   ]
  },
  {
   "cell_type": "markdown",
   "metadata": {},
   "source": [
    "#### 3. Model Building"
   ]
  },
  {
   "cell_type": "code",
   "execution_count": 180,
   "metadata": {},
   "outputs": [],
   "source": [
    "# # Logistic Regressor\n",
    "# # TODO : Try different hyperparameters for model\n",
    "# LR = LogisticRegression(max_iter=200).fit(tfTrain, y_train)\n",
    "# LR"
   ]
  },
  {
   "cell_type": "code",
   "execution_count": 181,
   "metadata": {},
   "outputs": [],
   "source": [
    "# LRpred = LR.predict(tfTest)"
   ]
  },
  {
   "cell_type": "code",
   "execution_count": 182,
   "metadata": {},
   "outputs": [],
   "source": [
    "# TODO : Try Other models and report score"
   ]
  },
  {
   "cell_type": "code",
   "execution_count": 183,
   "metadata": {},
   "outputs": [],
   "source": [
    "from sklearn.decomposition import PCA\n",
    "pca=PCA(n_components=3000)\n",
    "X_train=pca.fit_transform(X_train)"
   ]
  },
  {
   "cell_type": "code",
   "execution_count": 133,
   "metadata": {},
   "outputs": [
    {
     "data": {
      "text/plain": [
       "(3943, 3000)"
      ]
     },
     "execution_count": 133,
     "metadata": {},
     "output_type": "execute_result"
    }
   ],
   "source": [
    "X_train.shape"
   ]
  },
  {
   "cell_type": "code",
   "execution_count": 134,
   "metadata": {},
   "outputs": [
    {
     "data": {
      "text/plain": [
       "array([[-8.78496733e-02, -5.42461261e-02,  6.72214841e-02, ...,\n",
       "         7.70037906e-03,  5.09464948e-04,  2.31397214e-03],\n",
       "       [-5.70146534e-02,  4.48769548e-02,  4.03992536e-02, ...,\n",
       "        -2.10646327e-02,  3.21486871e-03, -6.42274358e-03],\n",
       "       [ 3.98464428e-01,  1.16784936e-01,  1.99306027e-02, ...,\n",
       "         2.10648052e-03,  1.11366228e-03,  1.37272710e-03],\n",
       "       ...,\n",
       "       [ 4.42218396e-03,  9.92522120e-02, -2.00113540e-01, ...,\n",
       "         4.89698829e-03, -5.31018859e-03, -1.77495657e-04],\n",
       "       [-8.50385333e-02, -6.27540378e-02,  7.31573932e-02, ...,\n",
       "         1.17111497e-04, -6.42941918e-03,  7.74689965e-03],\n",
       "       [-1.41092736e-02,  1.47395091e-02, -8.14342904e-03, ...,\n",
       "         7.95369255e-03, -3.00364530e-03,  7.39334762e-03]])"
      ]
     },
     "execution_count": 134,
     "metadata": {},
     "output_type": "execute_result"
    }
   ],
   "source": [
    "X_test=pca.transform(X_test)"
   ]
  },
  {
   "cell_type": "code",
   "execution_count": 135,
   "metadata": {},
   "outputs": [
    {
     "data": {
      "text/plain": [
       "SVC(kernel='linear')"
      ]
     },
     "execution_count": 135,
     "metadata": {},
     "output_type": "execute_result"
    }
   ],
   "source": [
    "svc=SVC(kernel='linear')\n",
    "svc.fit(X_train,y_train)"
   ]
  },
  {
   "cell_type": "code",
   "execution_count": 136,
   "metadata": {},
   "outputs": [],
   "source": [
    "y_pred=svc.predict(X_test)"
   ]
  },
  {
   "cell_type": "code",
   "execution_count": 137,
   "metadata": {},
   "outputs": [
    {
     "data": {
      "text/plain": [
       "<AxesSubplot:ylabel='count'>"
      ]
     },
     "execution_count": 137,
     "metadata": {},
     "output_type": "execute_result"
    },
    {
     "data": {
      "image/png": "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",
      "text/plain": [
       "<Figure size 432x288 with 1 Axes>"
      ]
     },
     "metadata": {
      "needs_background": "light"
     },
     "output_type": "display_data"
    }
   ],
   "source": [
    "sns.countplot(y_pred)"
   ]
  },
  {
   "cell_type": "code",
   "execution_count": 138,
   "metadata": {},
   "outputs": [
    {
     "data": {
      "text/plain": [
       "array([[ 11,  46,   7],\n",
       "       [ 12, 213,  12],\n",
       "       [  9,  43,  86]])"
      ]
     },
     "execution_count": 138,
     "metadata": {},
     "output_type": "execute_result"
    }
   ],
   "source": [
    "confusion_matrix(y_test,y_pred)"
   ]
  },
  {
   "cell_type": "code",
   "execution_count": 140,
   "metadata": {},
   "outputs": [],
   "source": [
    "from sklearn.metrics import roc_auc_score"
   ]
  },
  {
   "cell_type": "code",
   "execution_count": 141,
   "metadata": {},
   "outputs": [
    {
     "data": {
      "text/plain": [
       "0.7061503416856492"
      ]
     },
     "execution_count": 141,
     "metadata": {},
     "output_type": "execute_result"
    }
   ],
   "source": [
    "svc.score(X_test,y_test)"
   ]
  },
  {
   "cell_type": "markdown",
   "metadata": {},
   "source": [
    "#### 4. Model Testing"
   ]
  },
  {
   "cell_type": "code",
   "execution_count": 147,
   "metadata": {},
   "outputs": [],
   "source": [
    "from sklearn.metrics import f1_score"
   ]
  },
  {
   "cell_type": "code",
   "execution_count": 34,
   "metadata": {},
   "outputs": [
    {
     "data": {
      "text/plain": [
       "'The accuracy is 0.6970387243735763 and the F1 score is 0.7274975322356508'"
      ]
     },
     "execution_count": 34,
     "metadata": {},
     "output_type": "execute_result"
    }
   ],
   "source": [
    "f1score = f1_score(LRpred, y_test, average='weighted')\n",
    "acc = np.mean(LRpred==y_test)\n",
    "\"The accuracy is {0} and the F1 score is {1}\".format(acc, f1score)"
   ]
  },
  {
   "cell_type": "code",
   "execution_count": 153,
   "metadata": {},
   "outputs": [],
   "source": [
    "# f1score = f1_score(LRpred, y_test, average='weighted')\n",
    "# acc = np.mean(LRpred==y_test)\n",
    "# \"The accuracy is {0} and the F1 score is {1}\".format(acc, f1score)"
   ]
  },
  {
   "cell_type": "code",
   "execution_count": 184,
   "metadata": {},
   "outputs": [
    {
     "data": {
      "text/html": [
       "<div>\n",
       "<style scoped>\n",
       "    .dataframe tbody tr th:only-of-type {\n",
       "        vertical-align: middle;\n",
       "    }\n",
       "\n",
       "    .dataframe tbody tr th {\n",
       "        vertical-align: top;\n",
       "    }\n",
       "\n",
       "    .dataframe thead th {\n",
       "        text-align: right;\n",
       "    }\n",
       "</style>\n",
       "<table border=\"1\" class=\"dataframe\">\n",
       "  <thead>\n",
       "    <tr style=\"text-align: right;\">\n",
       "      <th></th>\n",
       "      <th>Sentence</th>\n",
       "      <th>Sentiment</th>\n",
       "    </tr>\n",
       "  </thead>\n",
       "  <tbody>\n",
       "    <tr>\n",
       "      <th>0</th>\n",
       "      <td>according to the finnish russian chamber of co...</td>\n",
       "      <td>neutral</td>\n",
       "    </tr>\n",
       "    <tr>\n",
       "      <th>1</th>\n",
       "      <td>the swedish buyout firm has sold its remaining...</td>\n",
       "      <td>neutral</td>\n",
       "    </tr>\n",
       "    <tr>\n",
       "      <th>2</th>\n",
       "      <td>spy wouldn t be surprised to see a green close</td>\n",
       "      <td>positive</td>\n",
       "    </tr>\n",
       "    <tr>\n",
       "      <th>3</th>\n",
       "      <td>shell s     billion bg deal meets shareholder ...</td>\n",
       "      <td>negative</td>\n",
       "    </tr>\n",
       "    <tr>\n",
       "      <th>4</th>\n",
       "      <td>ssh communications security corp stock exchang...</td>\n",
       "      <td>negative</td>\n",
       "    </tr>\n",
       "    <tr>\n",
       "      <th>...</th>\n",
       "      <td>...</td>\n",
       "      <td>...</td>\n",
       "    </tr>\n",
       "    <tr>\n",
       "      <th>4377</th>\n",
       "      <td>investments in product development stood at   ...</td>\n",
       "      <td>neutral</td>\n",
       "    </tr>\n",
       "    <tr>\n",
       "      <th>4378</th>\n",
       "      <td>hsbc says unit to book      million charge on ...</td>\n",
       "      <td>negative</td>\n",
       "    </tr>\n",
       "    <tr>\n",
       "      <th>4379</th>\n",
       "      <td>rising costs have forced packaging producer hu...</td>\n",
       "      <td>negative</td>\n",
       "    </tr>\n",
       "    <tr>\n",
       "      <th>4380</th>\n",
       "      <td>in the building and home improvement trade   s...</td>\n",
       "      <td>neutral</td>\n",
       "    </tr>\n",
       "    <tr>\n",
       "      <th>4381</th>\n",
       "      <td>helsinki afx   kci konecranes said it has won ...</td>\n",
       "      <td>positive</td>\n",
       "    </tr>\n",
       "  </tbody>\n",
       "</table>\n",
       "<p>4382 rows × 2 columns</p>\n",
       "</div>"
      ],
      "text/plain": [
       "                                               Sentence Sentiment\n",
       "0     according to the finnish russian chamber of co...   neutral\n",
       "1     the swedish buyout firm has sold its remaining...   neutral\n",
       "2        spy wouldn t be surprised to see a green close  positive\n",
       "3     shell s     billion bg deal meets shareholder ...  negative\n",
       "4     ssh communications security corp stock exchang...  negative\n",
       "...                                                 ...       ...\n",
       "4377  investments in product development stood at   ...   neutral\n",
       "4378  hsbc says unit to book      million charge on ...  negative\n",
       "4379  rising costs have forced packaging producer hu...  negative\n",
       "4380  in the building and home improvement trade   s...   neutral\n",
       "4381  helsinki afx   kci konecranes said it has won ...  positive\n",
       "\n",
       "[4382 rows x 2 columns]"
      ]
     },
     "execution_count": 184,
     "metadata": {},
     "output_type": "execute_result"
    }
   ],
   "source": [
    "data"
   ]
  },
  {
   "cell_type": "code",
   "execution_count": 185,
   "metadata": {},
   "outputs": [
    {
     "data": {
      "text/html": [
       "<div>\n",
       "<style scoped>\n",
       "    .dataframe tbody tr th:only-of-type {\n",
       "        vertical-align: middle;\n",
       "    }\n",
       "\n",
       "    .dataframe tbody tr th {\n",
       "        vertical-align: top;\n",
       "    }\n",
       "\n",
       "    .dataframe thead th {\n",
       "        text-align: right;\n",
       "    }\n",
       "</style>\n",
       "<table border=\"1\" class=\"dataframe\">\n",
       "  <thead>\n",
       "    <tr style=\"text-align: right;\">\n",
       "      <th></th>\n",
       "      <th>Sentence</th>\n",
       "      <th>Sentiment</th>\n",
       "    </tr>\n",
       "  </thead>\n",
       "  <tbody>\n",
       "    <tr>\n",
       "      <th>0</th>\n",
       "      <td>according to the finnish russian chamber of co...</td>\n",
       "      <td>neutral</td>\n",
       "    </tr>\n",
       "    <tr>\n",
       "      <th>1</th>\n",
       "      <td>the swedish buyout firm has sold its remaining...</td>\n",
       "      <td>neutral</td>\n",
       "    </tr>\n",
       "    <tr>\n",
       "      <th>2</th>\n",
       "      <td>spy wouldn t be surprised to see a green close</td>\n",
       "      <td>positive</td>\n",
       "    </tr>\n",
       "    <tr>\n",
       "      <th>3</th>\n",
       "      <td>shell s     billion bg deal meets shareholder ...</td>\n",
       "      <td>negative</td>\n",
       "    </tr>\n",
       "    <tr>\n",
       "      <th>4</th>\n",
       "      <td>ssh communications security corp stock exchang...</td>\n",
       "      <td>negative</td>\n",
       "    </tr>\n",
       "    <tr>\n",
       "      <th>...</th>\n",
       "      <td>...</td>\n",
       "      <td>...</td>\n",
       "    </tr>\n",
       "    <tr>\n",
       "      <th>4377</th>\n",
       "      <td>investments in product development stood at   ...</td>\n",
       "      <td>neutral</td>\n",
       "    </tr>\n",
       "    <tr>\n",
       "      <th>4378</th>\n",
       "      <td>hsbc says unit to book      million charge on ...</td>\n",
       "      <td>negative</td>\n",
       "    </tr>\n",
       "    <tr>\n",
       "      <th>4379</th>\n",
       "      <td>rising costs have forced packaging producer hu...</td>\n",
       "      <td>negative</td>\n",
       "    </tr>\n",
       "    <tr>\n",
       "      <th>4380</th>\n",
       "      <td>in the building and home improvement trade   s...</td>\n",
       "      <td>neutral</td>\n",
       "    </tr>\n",
       "    <tr>\n",
       "      <th>4381</th>\n",
       "      <td>helsinki afx   kci konecranes said it has won ...</td>\n",
       "      <td>positive</td>\n",
       "    </tr>\n",
       "  </tbody>\n",
       "</table>\n",
       "<p>4382 rows × 2 columns</p>\n",
       "</div>"
      ],
      "text/plain": [
       "                                               Sentence Sentiment\n",
       "0     according to the finnish russian chamber of co...   neutral\n",
       "1     the swedish buyout firm has sold its remaining...   neutral\n",
       "2        spy wouldn t be surprised to see a green close  positive\n",
       "3     shell s     billion bg deal meets shareholder ...  negative\n",
       "4     ssh communications security corp stock exchang...  negative\n",
       "...                                                 ...       ...\n",
       "4377  investments in product development stood at   ...   neutral\n",
       "4378  hsbc says unit to book      million charge on ...  negative\n",
       "4379  rising costs have forced packaging producer hu...  negative\n",
       "4380  in the building and home improvement trade   s...   neutral\n",
       "4381  helsinki afx   kci konecranes said it has won ...  positive\n",
       "\n",
       "[4382 rows x 2 columns]"
      ]
     },
     "execution_count": 185,
     "metadata": {},
     "output_type": "execute_result"
    }
   ],
   "source": [
    "data"
   ]
  },
  {
   "cell_type": "code",
   "execution_count": null,
   "metadata": {},
   "outputs": [],
   "source": []
  }
 ],
 "metadata": {
  "interpreter": {
   "hash": "5295a267c55f180e60e71387ea73cc020fddd40d0e79d6e49d9e5453acf0c9a9"
  },
  "kernelspec": {
   "display_name": "Python 3.8.12 ('dsc80')",
   "language": "python",
   "name": "python3"
  },
  "language_info": {
   "codemirror_mode": {
    "name": "ipython",
    "version": 3
   },
   "file_extension": ".py",
   "mimetype": "text/x-python",
   "name": "python",
   "nbconvert_exporter": "python",
   "pygments_lexer": "ipython3",
   "version": "3.8.8"
  },
  "orig_nbformat": 4
 },
 "nbformat": 4,
 "nbformat_minor": 2
}
